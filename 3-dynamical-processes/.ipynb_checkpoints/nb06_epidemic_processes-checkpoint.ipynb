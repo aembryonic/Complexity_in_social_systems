{
 "cells": [
  {
   "cell_type": "markdown",
   "metadata": {},
   "source": [
    "<center>\n",
    "<hr>\n",
    "<h1>Complessità nei sistemi sociali</h1>\n",
    "<h2>Laurea Magistrale in Fisica Dei Sistemi Complessi</h2>\n",
    "<h2>A.A. 2016/17</h2>\n",
    "<h2>Dr. Daniela Paolotti, Dr. Michele Tizzoni</h2>\n",
    "<h3>SIR epidemic models, epidemic processes on networks</h3>\n",
    "<hr>\n",
    "</center>"
   ]
  },
  {
   "cell_type": "code",
   "execution_count": null,
   "metadata": {
    "collapsed": true
   },
   "outputs": [],
   "source": [
    "import networkx as nx\n",
    "import numpy as np\n",
    "from operator import itemgetter\n",
    "from collections import defaultdict\n",
    "\n",
    "import seaborn as sns"
   ]
  },
  {
   "cell_type": "code",
   "execution_count": null,
   "metadata": {},
   "outputs": [],
   "source": [
    "%pylab inline"
   ]
  },
  {
   "cell_type": "markdown",
   "metadata": {},
   "source": [
    "# Deterministic SIR"
   ]
  },
  {
   "cell_type": "markdown",
   "metadata": {},
   "source": [
    "As a first step, we solve the differential equations of an SIR model with the Euler method. "
   ]
  },
  {
   "cell_type": "markdown",
   "metadata": {},
   "source": [
    "We set the parameters of the model"
   ]
  },
  {
   "cell_type": "code",
   "execution_count": null,
   "metadata": {
    "collapsed": true
   },
   "outputs": [],
   "source": [
    "mu=0.2\n",
    "R0=2.0\n",
    "beta=R0*mu"
   ]
  },
  {
   "cell_type": "code",
   "execution_count": null,
   "metadata": {},
   "outputs": [],
   "source": [
    "beta"
   ]
  },
  {
   "cell_type": "code",
   "execution_count": null,
   "metadata": {},
   "outputs": [],
   "source": [
    "print \"The average infectious period is \", 1./mu, \" days\""
   ]
  },
  {
   "cell_type": "markdown",
   "metadata": {},
   "source": [
    "The time step of integration is 1."
   ]
  },
  {
   "cell_type": "code",
   "execution_count": null,
   "metadata": {
    "collapsed": true
   },
   "outputs": [],
   "source": [
    "N=1000000\n",
    "I=100\n",
    "S=N-I\n",
    "R=0\n",
    "    \n",
    "St=[]\n",
    "It=[]\n",
    "Rt=[]\n",
    "\n",
    "St.append(S)\n",
    "It.append(I)\n",
    "Rt.append(R)\n",
    "\n",
    "while I>0.001:\n",
    "    deltaSI=beta*(float(I)*float(S)/N)\n",
    "    deltaIR=mu*I\n",
    "    \n",
    "    S=S-deltaSI\n",
    "    I=I+deltaSI-deltaIR\n",
    "    R=R+deltaIR\n",
    "    \n",
    "    St.append(S)\n",
    "    It.append(I)\n",
    "    Rt.append(R)"
   ]
  },
  {
   "cell_type": "code",
   "execution_count": null,
   "metadata": {},
   "outputs": [],
   "source": [
    "print \"The final attack rate is \", Rt[-1]/N"
   ]
  },
  {
   "cell_type": "markdown",
   "metadata": {},
   "source": [
    "We plot the time varying curves of S, I and R"
   ]
  },
  {
   "cell_type": "code",
   "execution_count": null,
   "metadata": {},
   "outputs": [],
   "source": [
    "plt.figure(figsize=(10,7))\n",
    "plt.plot(xrange(0, len(St)),np.array(St)/N, label='S', color='g')\n",
    "plt.plot(xrange(0, len(It)),np.array(It)/N, label='I', color='r')\n",
    "plt.plot(xrange(0, len(Rt)),np.array(Rt)/N, label='R', color='b')\n",
    "\n",
    "#plt.yscale('log')\n",
    "plt.xlim([0,len(It)])\n",
    "\n",
    "plt.xticks(fontsize=14)\n",
    "plt.yticks(fontsize=14)\n",
    "plt.xlabel('Time', fontsize=18)\n",
    "plt.ylabel('Individuals', fontsize=18)\n",
    "\n",
    "plt.legend(loc='upper right')"
   ]
  },
  {
   "cell_type": "markdown",
   "metadata": {},
   "source": [
    "# Stochastic SIR"
   ]
  },
  {
   "cell_type": "markdown",
   "metadata": {},
   "source": [
    "We simulate a discrete and stochastic SIR model by randomly extracting the transition elements at each time step.\n",
    "Since the simulations are stochastic, we need to run several realizations of the model and then extract their statistical averages."
   ]
  },
  {
   "cell_type": "markdown",
   "metadata": {},
   "source": [
    "We use the same model's parameters: $R_0=2.0$"
   ]
  },
  {
   "cell_type": "code",
   "execution_count": null,
   "metadata": {
    "collapsed": true
   },
   "outputs": [],
   "source": [
    "dict_I=defaultdict(list) #here we store the number of I at each time step, for each run"
   ]
  },
  {
   "cell_type": "code",
   "execution_count": null,
   "metadata": {},
   "outputs": [],
   "source": [
    "final_R=[]\n",
    "\n",
    "nrun=1000\n",
    "Irun=[]\n",
    "for r in xrange(0,nrun):\n",
    "\n",
    "    #for each run r, we set the initial conditions  \n",
    "    N=1000000\n",
    "    I=100\n",
    "    S=N-I\n",
    "    R=0\n",
    "    \n",
    "    list_I=[]\n",
    "\n",
    "    t=0\n",
    "    dict_I[t].append(I)\n",
    "    while I>0:\n",
    "        \n",
    "        p=beta*(float(I)/N)\n",
    "        deltaSI=np.random.binomial(S,p)\n",
    "        \n",
    "        deltaIR=np.random.binomial(I,mu)\n",
    "        \n",
    "        S=S-deltaSI\n",
    "        I=I+deltaSI-deltaIR\n",
    "        R=R+deltaIR\n",
    "        \n",
    "        t+=1\n",
    "        list_I.append(I)\n",
    "        \n",
    "        dict_I[t].append(I)\n",
    "    \n",
    "    final_R.append(float(R)/N)\n",
    "    Irun.append(list_I)\n",
    "\n",
    "print \"The average final attack rate is \", np.average(np.array(final_R))"
   ]
  },
  {
   "cell_type": "code",
   "execution_count": null,
   "metadata": {},
   "outputs": [],
   "source": [
    "plt.figure(figsize=(10,7))\n",
    "\n",
    "plt.xticks(fontsize=14)\n",
    "plt.yticks(fontsize=14)\n",
    "\n",
    "plt.xlabel('Time', fontsize=18)\n",
    "plt.ylabel('Prevalence', fontsize=18)\n",
    "\n",
    "for r in Irun: \n",
    "\n",
    "    plt.plot(xrange(0,len(r)),r)\n",
    "    "
   ]
  },
  {
   "cell_type": "markdown",
   "metadata": {},
   "source": [
    "Too many lines are messy... let's draw a boxplot"
   ]
  },
  {
   "cell_type": "code",
   "execution_count": null,
   "metadata": {
    "collapsed": true
   },
   "outputs": [],
   "source": [
    "import matplotlib.ticker as ticker"
   ]
  },
  {
   "cell_type": "code",
   "execution_count": null,
   "metadata": {},
   "outputs": [],
   "source": [
    "full_array=[np.array(dict_I[t]) for t in dict_I]\n",
    "\n",
    "plt.figure(figsize=(10,7))\n",
    "\n",
    "plt.xlabel('Time', fontsize=18)\n",
    "plt.ylabel('Prevalence', fontsize=18)\n",
    "\n",
    "plt.xticks(fontsize=14)\n",
    "plt.yticks(fontsize=14)\n",
    "\n",
    "ax=sns.boxplot(full_array)#this is kinda magic, isn't it?\n",
    "\n",
    "ax.xaxis.set_major_locator(ticker.MultipleLocator(20))\n",
    "ax.xaxis.set_major_formatter(ticker.ScalarFormatter())\n",
    "\n",
    "plt.show()"
   ]
  },
  {
   "cell_type": "markdown",
   "metadata": {},
   "source": [
    "Let's compare the result with the deterministic simulation by computing the average prevalence of the stochastic version.\n"
   ]
  },
  {
   "cell_type": "code",
   "execution_count": null,
   "metadata": {
    "collapsed": true
   },
   "outputs": [],
   "source": [
    "full_average=[np.average(np.array(dict_I[t])) for t in dict_I]"
   ]
  },
  {
   "cell_type": "code",
   "execution_count": null,
   "metadata": {},
   "outputs": [],
   "source": [
    "plt.figure(figsize=(10,7))\n",
    "\n",
    "plt.xlabel('Time', fontsize=18)\n",
    "plt.ylabel('Prevalence', fontsize=18)\n",
    "\n",
    "plt.xticks(fontsize=14)\n",
    "plt.yticks(fontsize=14)\n",
    "\n",
    "ax=sns.boxplot(full_array)\n",
    "\n",
    "plt.plot(xrange(0,len(It)),It,color='r') \n",
    "plt.plot(xrange(0,len(full_average)),full_average,color='g')\n",
    "\n",
    "ax.xaxis.set_major_locator(ticker.MultipleLocator(20))\n",
    "ax.xaxis.set_major_formatter(ticker.ScalarFormatter())\n",
    "\n",
    "plt.axis([0,60,-1,170000])\n",
    "plt.show()"
   ]
  },
  {
   "cell_type": "markdown",
   "metadata": {},
   "source": [
    "## Dependence on the initial conditions"
   ]
  },
  {
   "cell_type": "markdown",
   "metadata": {},
   "source": [
    "The results of the stochastic version of the model depend on the initial conditions. \n",
    "Let's change the initial number of infected individuals to 1."
   ]
  },
  {
   "cell_type": "code",
   "execution_count": null,
   "metadata": {},
   "outputs": [],
   "source": [
    "dict_I=defaultdict(list)#here we store the number of I at each time step, for each run\n",
    "\n",
    "final_R=[]\n",
    "\n",
    "nrun=100\n",
    "Irun=[]\n",
    "for r in xrange(0,nrun):\n",
    "\n",
    "    #for each run r, we set the initial conditions  \n",
    "    N=1000000\n",
    "    I=1  \n",
    "    S=N-I\n",
    "    R=0\n",
    "    \n",
    "    list_I=[]\n",
    "\n",
    "    t=0\n",
    "    dict_I[t].append(I)\n",
    "    while I>0:\n",
    "        \n",
    "        p=beta*(float(I)/N)\n",
    "        deltaSI=np.random.binomial(S,p)\n",
    "        \n",
    "        deltaIR=np.random.binomial(I,mu)\n",
    "        \n",
    "        S=S-deltaSI\n",
    "        I=I+deltaSI-deltaIR\n",
    "        R=R+deltaIR\n",
    "        \n",
    "        t+=1\n",
    "        list_I.append(I)\n",
    "        \n",
    "        dict_I[t].append(I)\n",
    "    \n",
    "    final_R.append(float(R)/N)\n",
    "    Irun.append(list_I)\n",
    "\n",
    "print \"The average final attack rate is \", np.average(np.array(final_R))"
   ]
  },
  {
   "cell_type": "markdown",
   "metadata": {},
   "source": [
    "#### With only 1 infected as a seed, we see more fluctuations, as expected."
   ]
  },
  {
   "cell_type": "code",
   "execution_count": null,
   "metadata": {},
   "outputs": [],
   "source": [
    "plt.figure(figsize=(10,7))\n",
    "plt.xlabel('Time', fontsize=18)\n",
    "plt.ylabel('Prevalence', fontsize=18)\n",
    "\n",
    "plt.xticks(fontsize=14)\n",
    "plt.yticks(fontsize=14)\n",
    "\n",
    "for r in Irun: \n",
    "\n",
    "    plt.plot(xrange(0,len(r)),r)\n",
    "    "
   ]
  },
  {
   "cell_type": "markdown",
   "metadata": {},
   "source": [
    "#### We have several runs without outbreak! \n",
    "The initial seed individual recovers before infecting someone else."
   ]
  },
  {
   "cell_type": "code",
   "execution_count": null,
   "metadata": {},
   "outputs": [],
   "source": [
    "for r in final_R:\n",
    "    if r<0.8:\n",
    "        print r"
   ]
  },
  {
   "cell_type": "code",
   "execution_count": null,
   "metadata": {
    "collapsed": true
   },
   "outputs": [],
   "source": [
    "no_outbreak = [r for r in final_R if r<0.8]"
   ]
  },
  {
   "cell_type": "code",
   "execution_count": null,
   "metadata": {},
   "outputs": [],
   "source": [
    "plt.figure(figsize=(10,7))\n",
    "plt.hist(final_R, 20)\n",
    "plt.xlabel('final size', fontsize=18)\n",
    "plt.ylabel('runs', fontsize=18)\n",
    "plt.xticks(fontsize=14)\n",
    "plt.yticks(fontsize=14)"
   ]
  },
  {
   "cell_type": "code",
   "execution_count": null,
   "metadata": {},
   "outputs": [],
   "source": [
    "len(no_outbreak)"
   ]
  },
  {
   "cell_type": "markdown",
   "metadata": {},
   "source": [
    "In a stochastic SIR model, the probability of an outbreak is equal to \n",
    "<center>\n",
    "$p_{outb}=1-(\\frac{1}{R_0})^{I_0}$\n",
    "</center>"
   ]
  },
  {
   "cell_type": "code",
   "execution_count": null,
   "metadata": {
    "collapsed": true
   },
   "outputs": [],
   "source": [
    "p_outbreak=1-1/R0"
   ]
  },
  {
   "cell_type": "code",
   "execution_count": null,
   "metadata": {},
   "outputs": [],
   "source": [
    "p_outbreak"
   ]
  },
  {
   "cell_type": "markdown",
   "metadata": {},
   "source": [
    "Of course, such fluctuations do not affect the deterministic model, where the outcome is fixed. "
   ]
  },
  {
   "cell_type": "code",
   "execution_count": null,
   "metadata": {
    "collapsed": true
   },
   "outputs": [],
   "source": [
    "N=1000000\n",
    "I=1\n",
    "S=N-I\n",
    "R=0\n",
    "    \n",
    "\n",
    "St=[]\n",
    "It=[]\n",
    "Rt=[]\n",
    "\n",
    "St.append(S)\n",
    "It.append(I)\n",
    "Rt.append(R)\n",
    "\n",
    "while I>0.5:\n",
    "    deltaSI=beta*(float(I)*float(S)/N)\n",
    "    deltaIR=mu*I\n",
    "    \n",
    "    S=S-deltaSI\n",
    "    I=I+deltaSI-deltaIR\n",
    "    R=R+deltaIR\n",
    "    \n",
    "    St.append(S)\n",
    "    It.append(I)\n",
    "    Rt.append(R)"
   ]
  },
  {
   "cell_type": "code",
   "execution_count": null,
   "metadata": {},
   "outputs": [],
   "source": [
    "print \"The final attack rate is \", Rt[-1]/N"
   ]
  },
  {
   "cell_type": "markdown",
   "metadata": {},
   "source": [
    "# Stochastic SIR on networks"
   ]
  },
  {
   "cell_type": "code",
   "execution_count": null,
   "metadata": {
    "collapsed": true
   },
   "outputs": [],
   "source": [
    "airport_path='./../network_data/USairport_2010.txt'\n",
    "meta_path='./../network_data/USairport_2010_codes.txt'"
   ]
  },
  {
   "cell_type": "code",
   "execution_count": null,
   "metadata": {
    "collapsed": true
   },
   "outputs": [],
   "source": [
    "G=nx.Graph()\n",
    "fh=open(airport_path,'r')\n",
    "for line in fh.readlines():\n",
    "    s=line.strip().split()\n",
    "    G.add_edge(int(s[0]),int(s[1]))\n",
    "fh.close()  "
   ]
  },
  {
   "cell_type": "code",
   "execution_count": null,
   "metadata": {
    "collapsed": true
   },
   "outputs": [],
   "source": [
    "G.code={}\n",
    "G.name={}\n",
    "G.pos={}\n",
    "\n",
    "lons=[]\n",
    "lats=[]\n",
    "\n",
    "finfo=open(meta_path,'r')\n",
    "for line in finfo.readlines():\n",
    "    s=line.strip().split()\n",
    "    node=int(s[0])\n",
    "    \n",
    "    lon=float(s[4])\n",
    "    lat=float(s[3])\n",
    "    \n",
    "    G.code[node]=s[1]\n",
    "    G.name[node]=s[2]\n",
    "    G.pos[node]=[lon,lat]\n",
    "    \n",
    "    lons.append(lon)\n",
    "    lats.append(lat)\n",
    "finfo.close() "
   ]
  },
  {
   "cell_type": "code",
   "execution_count": null,
   "metadata": {
    "collapsed": true
   },
   "outputs": [],
   "source": [
    "#disease parameters\n",
    "mu=0.2#infectious period\n",
    "beta=0.01#probability of infection given a contact"
   ]
  },
  {
   "cell_type": "code",
   "execution_count": null,
   "metadata": {
    "collapsed": true
   },
   "outputs": [],
   "source": [
    "#we need to store the disease status of each node\n",
    "G.disease_status={} #S=0, I=1, R=-1\n",
    "\n",
    "infected_nodes=[]#list of infected nodes"
   ]
  },
  {
   "cell_type": "code",
   "execution_count": null,
   "metadata": {},
   "outputs": [],
   "source": [
    "#let's choose a seed\n",
    "node_list=[]\n",
    "\n",
    "deg=G.degree()\n",
    "for i in sorted(deg.iteritems(), key=itemgetter(1)):\n",
    "    node_list.append(i[0])\n",
    "seed=node_list[-1]\n",
    "\n",
    "print \"The seed is\", G.name[seed]\n",
    "print \"The degree of the seed is\", G.degree(seed)"
   ]
  },
  {
   "cell_type": "code",
   "execution_count": null,
   "metadata": {
    "collapsed": true
   },
   "outputs": [],
   "source": [
    "#initialize the network\n",
    "infected_nodes.append(seed)\n",
    "\n",
    "for n in G.nodes():\n",
    "    if n in infected_nodes:\n",
    "        G.disease_status[n]=1\n",
    "        #infected\n",
    "    else:\n",
    "        G.disease_status[n]=0\n",
    "        #susceptible"
   ]
  },
  {
   "cell_type": "code",
   "execution_count": null,
   "metadata": {
    "collapsed": true
   },
   "outputs": [],
   "source": [
    "I_net=[]\n",
    "while len(infected_nodes)>0:\n",
    "    \n",
    "    #transmission\n",
    "    for i in infected_nodes:\n",
    "        for j in G.neighbors(i):\n",
    "            if G.disease_status[j]==0:\n",
    "                p=np.random.random()\n",
    "                if p<beta:\n",
    "                    G.disease_status[j]=1\n",
    "                \n",
    "    \n",
    "    #recovery\n",
    "    for k in infected_nodes:\n",
    "        p=np.random.random()\n",
    "        if p<mu:\n",
    "            G.disease_status[k]=-1\n",
    "    \n",
    "    #update of disease status\n",
    "    infected_nodes=[]\n",
    "    for n in G.nodes():\n",
    "        if G.disease_status[n]==1:\n",
    "            infected_nodes.append(n)\n",
    " \n",
    "    #store output\n",
    "    I_net.append(len(infected_nodes))"
   ]
  },
  {
   "cell_type": "code",
   "execution_count": null,
   "metadata": {},
   "outputs": [],
   "source": [
    "plt.figure(figsize=(10,7))\n",
    "plt.xlabel('Time', fontsize=18)\n",
    "plt.ylabel('Prevalence', fontsize=18)\n",
    "\n",
    "plt.xticks(fontsize=14)\n",
    "plt.yticks(fontsize=14)\n",
    "\n",
    "plt.plot(xrange(0,len(I_net)),I_net)"
   ]
  },
  {
   "cell_type": "code",
   "execution_count": null,
   "metadata": {},
   "outputs": [],
   "source": [
    "recovered=0\n",
    "for n in G.nodes():\n",
    "    if G.disease_status[n]==-1:\n",
    "        recovered+=1\n",
    "\n",
    "print \"The total number of infected nodes is\", recovered\n",
    "print \"The final attack rate is\", float(recovered)/len(G.nodes())\n",
    "        "
   ]
  },
  {
   "cell_type": "markdown",
   "metadata": {},
   "source": [
    "#### Visualize the infection spread on the network"
   ]
  },
  {
   "cell_type": "code",
   "execution_count": null,
   "metadata": {
    "collapsed": true
   },
   "outputs": [],
   "source": [
    "from mpl_toolkits.basemap import Basemap"
   ]
  },
  {
   "cell_type": "code",
   "execution_count": null,
   "metadata": {
    "collapsed": true
   },
   "outputs": [],
   "source": [
    "shape_path='./../shapefiles/st99_d00'"
   ]
  },
  {
   "cell_type": "code",
   "execution_count": null,
   "metadata": {
    "collapsed": true
   },
   "outputs": [],
   "source": [
    "#we need to store the disease status of each node\n",
    "G.disease_status={} #S=0, I=1, R=-1\n",
    "\n",
    "infected_nodes=[]#list of infected nodes"
   ]
  },
  {
   "cell_type": "code",
   "execution_count": null,
   "metadata": {
    "collapsed": true
   },
   "outputs": [],
   "source": [
    "#initialize the network\n",
    "infected_nodes.append(seed)\n",
    "\n",
    "for n in G.nodes():\n",
    "    if n in infected_nodes:\n",
    "        G.disease_status[n]=1\n",
    "        #infected\n",
    "    else:\n",
    "        G.disease_status[n]=0\n",
    "        #susceptible"
   ]
  },
  {
   "cell_type": "code",
   "execution_count": null,
   "metadata": {},
   "outputs": [],
   "source": [
    "t=0\n",
    "node_color=[G.disease_status[v] for v in G]#color code on disease status\n",
    "\n",
    "plt.figure(figsize=(12,7))\n",
    "\n",
    "m = Basemap(llcrnrlon=-119,llcrnrlat=22,urcrnrlon=-64,urcrnrlat=49,\n",
    "            projection='lcc',lat_1=33,lat_2=45,lon_0=-95,suppress_ticks=True)\n",
    "\n",
    "# convert lat and lon to map projection\n",
    "mx,my=m(lons,lats)\n",
    "\n",
    "#new dictionary for projected coordinates of nodes\n",
    "G.pos_m={}\n",
    "i=0\n",
    "for n in G.pos:\n",
    "    G.pos_m[n]=[mx[i], my[i]]\n",
    "    i+=1\n",
    "    \n",
    "\n",
    "m.readshapefile(shape_path, name='states', drawbounds=True)\n",
    "\n",
    "nx.draw_networkx_nodes(G, pos=G.pos_m, node_size=30,node_color=node_color, cmap=plt.cm.RdBu_r, vmin=-1, vmax=1)\n",
    "\n",
    "#plt.savefig('./spreading_SIR_snapshot_time_'+str(t)+'.png')"
   ]
  },
  {
   "cell_type": "code",
   "execution_count": null,
   "metadata": {},
   "outputs": [],
   "source": [
    "while len(infected_nodes)>0 and t<30:\n",
    "    \n",
    "    for i in infected_nodes:\n",
    "        for j in G.neighbors(i):\n",
    "            if G.disease_status[j]==0:\n",
    "                p=np.random.random()\n",
    "                if p<beta:\n",
    "                    G.disease_status[j]=1\n",
    "                \n",
    "    for k in infected_nodes:\n",
    "        p=np.random.random()\n",
    "        if p<mu:\n",
    "            G.disease_status[k]=-1\n",
    "    \n",
    "    infected_nodes=[]\n",
    "    for n in G.nodes():\n",
    "        if G.disease_status[n]==1:\n",
    "            infected_nodes.append(n)\n",
    "\n",
    "    t+=1\n",
    "    node_color=[G.disease_status[v] for v in G]#color code on disease status\n",
    "    \n",
    "    plt.figure(figsize=(12,7))\n",
    "    m = Basemap(llcrnrlon=-119,llcrnrlat=22,urcrnrlon=-64,urcrnrlat=49,projection='lcc',lat_1=33,lat_2=45,lon_0=-95,suppress_ticks=True)\n",
    "    m.readshapefile(shape_path, name='states', drawbounds=True)\n",
    "\n",
    "    \n",
    "    nx.draw_networkx_nodes(G, pos=G.pos_m, node_size=30,node_color=node_color, \n",
    "                           cmap=plt.cm.RdBu_r, vmin=-1, vmax=1)\n",
    "    \n",
    "    #plt.savefig('./spreading_SIR_snapshot_time_'+str(t)+'.png')"
   ]
  },
  {
   "cell_type": "code",
   "execution_count": null,
   "metadata": {
    "collapsed": true
   },
   "outputs": [],
   "source": []
  }
 ],
 "metadata": {
  "kernelspec": {
   "display_name": "Python 2",
   "language": "python",
   "name": "python2"
  },
  "language_info": {
   "codemirror_mode": {
    "name": "ipython",
    "version": 2
   },
   "file_extension": ".py",
   "mimetype": "text/x-python",
   "name": "python",
   "nbconvert_exporter": "python",
   "pygments_lexer": "ipython2",
   "version": "2.7.12"
  }
 },
 "nbformat": 4,
 "nbformat_minor": 1
}
