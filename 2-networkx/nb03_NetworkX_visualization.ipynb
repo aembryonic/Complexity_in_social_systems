{
 "cells": [
  {
   "cell_type": "markdown",
   "metadata": {},
   "source": [
    "<center>\n",
    "<hr>\n",
    "<h1>Complessità nei sistemi sociali</h1>\n",
    "<h2>Laurea Magistrale in Fisica Dei Sistemi Complessi</h2>\n",
    "<h2>A.A. 2016/17</h2>\n",
    "<h3>Dr. Daniela Paolotti, Dr. Michele Tizzoni</h3>\n",
    "<h3>Introduction to NetworkX - Network visualization</h3>\n",
    "<hr>\n",
    "</center>"
   ]
  },
  {
   "cell_type": "markdown",
   "metadata": {},
   "source": [
    "# NetworkX preliminaries\n",
    "---\n",
    "\n",
    "We will use the Python library [NetworkX](https://networkx.github.io/index.html). It is well documented and several [examples](http://networkx.readthedocs.io/en/networkx-1.11/examples/) are available.\n",
    "\n",
    "It is not the only Python library available for network analysis. Another very good one is [graph-tool](https://graph-tool.skewed.de/).\n",
    "\n",
    "Also the [SNAP library](http://snap.stanford.edu/data/index.html) provides an excellent tool to analyze very large networks.\n"
   ]
  },
  {
   "cell_type": "code",
   "execution_count": null,
   "metadata": {
    "collapsed": true
   },
   "outputs": [],
   "source": [
    "import networkx as nx\n",
    "from operator import itemgetter"
   ]
  },
  {
   "cell_type": "markdown",
   "metadata": {},
   "source": [
    "We import the plotting library seaborn which integrates very well with matplotlib.\n",
    "More documentation is available here: https://seaborn.pydata.org/"
   ]
  },
  {
   "cell_type": "code",
   "execution_count": null,
   "metadata": {
    "collapsed": true
   },
   "outputs": [],
   "source": [
    "import seaborn as sns"
   ]
  },
  {
   "cell_type": "code",
   "execution_count": null,
   "metadata": {},
   "outputs": [],
   "source": [
    "%pylab inline"
   ]
  },
  {
   "cell_type": "markdown",
   "metadata": {},
   "source": [
    "Generate an empty UNDIRECTED graph with NetworkX"
   ]
  },
  {
   "cell_type": "code",
   "execution_count": null,
   "metadata": {
    "collapsed": true
   },
   "outputs": [],
   "source": [
    "G=nx.Graph()"
   ]
  },
  {
   "cell_type": "markdown",
   "metadata": {},
   "source": [
    "Add nodes from a list of names"
   ]
  },
  {
   "cell_type": "code",
   "execution_count": null,
   "metadata": {
    "collapsed": true
   },
   "outputs": [],
   "source": [
    "G.add_nodes_from(['Luca','Andrea','Sara','Carlo','Veronica'])"
   ]
  },
  {
   "cell_type": "code",
   "execution_count": null,
   "metadata": {},
   "outputs": [],
   "source": [
    "G.nodes()"
   ]
  },
  {
   "cell_type": "markdown",
   "metadata": {},
   "source": [
    "Add another node"
   ]
  },
  {
   "cell_type": "code",
   "execution_count": null,
   "metadata": {},
   "outputs": [],
   "source": [
    "G.add_node('Giovanni')\n",
    "\n",
    "print \"The nodes of G are: \"\n",
    "print G.nodes()"
   ]
  },
  {
   "cell_type": "markdown",
   "metadata": {},
   "source": [
    "So far we have nodes in the networks but no edges.\n",
    "Let's add edges from a list of tuples."
   ]
  },
  {
   "cell_type": "code",
   "execution_count": null,
   "metadata": {
    "collapsed": true
   },
   "outputs": [],
   "source": [
    "G.add_edges_from([('Luca','Sara'),('Andrea','Luca'),\n",
    "('Carlo','Veronica'),('Sara','Veronica'),('Giovanni','Andrea')])"
   ]
  },
  {
   "cell_type": "markdown",
   "metadata": {},
   "source": [
    "We add another edge and 'Lucia' is a new node."
   ]
  },
  {
   "cell_type": "code",
   "execution_count": null,
   "metadata": {},
   "outputs": [],
   "source": [
    "G.add_edge('Veronica','Lucia')\n",
    "\n",
    "print \"The nodes of G are : \"\n",
    "print G.nodes()\n",
    "\n",
    "print \"The links of G are : \"\n",
    "print G.edges()"
   ]
  },
  {
   "cell_type": "markdown",
   "metadata": {},
   "source": [
    "We want to add the property 'age' to each node"
   ]
  },
  {
   "cell_type": "code",
   "execution_count": null,
   "metadata": {},
   "outputs": [],
   "source": [
    "for n in G.nodes():\n",
    "    if n[0]=='L':\n",
    "        G.node[n]['age']=24\n",
    "    else:\n",
    "        G.node[n]['age']=28\n",
    "\n",
    "#show the nodes with their age\n",
    "print G.nodes(data=True)"
   ]
  },
  {
   "cell_type": "markdown",
   "metadata": {},
   "source": [
    "How to remove a node?"
   ]
  },
  {
   "cell_type": "code",
   "execution_count": null,
   "metadata": {},
   "outputs": [],
   "source": [
    "G.remove_node('Luca')\n",
    "print G.nodes(data=True)\n",
    "print G.edges()"
   ]
  },
  {
   "cell_type": "markdown",
   "metadata": {},
   "source": [
    "If we remove an edge, we do not remove the nodes! "
   ]
  },
  {
   "cell_type": "code",
   "execution_count": null,
   "metadata": {
    "collapsed": true
   },
   "outputs": [],
   "source": [
    "G.remove_edge('Giovanni', 'Andrea')"
   ]
  },
  {
   "cell_type": "code",
   "execution_count": null,
   "metadata": {},
   "outputs": [],
   "source": [
    "print G.edges()"
   ]
  },
  {
   "cell_type": "markdown",
   "metadata": {},
   "source": [
    "Degree is easily accessible"
   ]
  },
  {
   "cell_type": "code",
   "execution_count": null,
   "metadata": {},
   "outputs": [],
   "source": [
    "print G.degree('Veronica')"
   ]
  },
  {
   "cell_type": "code",
   "execution_count": null,
   "metadata": {},
   "outputs": [],
   "source": [
    "print G.degree()"
   ]
  },
  {
   "cell_type": "code",
   "execution_count": null,
   "metadata": {},
   "outputs": [],
   "source": [
    "for i in G.degree():\n",
    "    print i, G.degree()[i]"
   ]
  },
  {
   "cell_type": "markdown",
   "metadata": {},
   "source": [
    "## Analyze the citHepTh network with NetworkX\n",
    "---\n",
    "We analyze the citation dataset (citHepTh) available on the [Stanford Large Network Data Colletion](http://snap.stanford.edu/data/index.html). \n",
    "\n",
    "The network is directed!"
   ]
  },
  {
   "cell_type": "code",
   "execution_count": null,
   "metadata": {
    "collapsed": true
   },
   "outputs": [],
   "source": [
    "H=nx.DiGraph()"
   ]
  },
  {
   "cell_type": "code",
   "execution_count": null,
   "metadata": {
    "collapsed": true
   },
   "outputs": [],
   "source": [
    "fh=open('./cit-HepTh.txt','r')\n",
    "#reading all the file lines\n",
    "for line in fh.readlines():\n",
    "    #remove \"\\n\" characters (.strip()) and split the line at blank spaces (split.())\n",
    "    s=line.strip().split()\n",
    "    if s[0]!='#':\n",
    "        #the first lines are comments\n",
    "        origin=int(s[0])\n",
    "        dest=int(s[1])\n",
    "        H.add_edge(origin,dest)\n",
    "    \n",
    "#chiudo il file\n",
    "fh.close()"
   ]
  },
  {
   "cell_type": "code",
   "execution_count": null,
   "metadata": {},
   "outputs": [],
   "source": [
    "print \"The network has\", len(H), \"nodes\""
   ]
  },
  {
   "cell_type": "code",
   "execution_count": null,
   "metadata": {},
   "outputs": [],
   "source": [
    "H.in_degree()\n",
    "#this is a dictionary node->degree_in"
   ]
  },
  {
   "cell_type": "markdown",
   "metadata": {},
   "source": [
    "### We want to count how many nodes have a given degree-in\n",
    "The Counter module is a dictionary subclass that allows quick item counting."
   ]
  },
  {
   "cell_type": "code",
   "execution_count": null,
   "metadata": {},
   "outputs": [],
   "source": [
    "from collections import Counter \n",
    "degin_distri=Counter(H.in_degree().values())\n",
    "degin_distri"
   ]
  },
  {
   "cell_type": "code",
   "execution_count": null,
   "metadata": {
    "scrolled": false
   },
   "outputs": [],
   "source": [
    "x=[]\n",
    "y=[]\n",
    "for i in sorted(degin_distri):   \n",
    "    x.append(i)\n",
    "    y.append(float(degin_distri[i])/len(H))\n",
    "\n",
    "plt.figure(figsize=(10,7))    \n",
    "plt.plot(np.array(x),np.array(y))\n",
    "\n",
    "plt.xlabel('$k_{in}$', fontsize=18)\n",
    "plt.ylabel('$P(k_{in})$', fontsize=18)\n",
    "\n",
    "plt.xticks(fontsize=14)\n",
    "plt.yticks(fontsize=14)\n",
    "\n",
    "plt.yscale('log')\n",
    "plt.xscale('log')\n",
    "plt.axis([1,10000,0.00001,1.0])\n",
    "plt.show()"
   ]
  },
  {
   "cell_type": "markdown",
   "metadata": {},
   "source": [
    "Let's plot the degree out distribution"
   ]
  },
  {
   "cell_type": "code",
   "execution_count": null,
   "metadata": {},
   "outputs": [],
   "source": [
    "degout_distri=Counter(H.out_degree().values())\n",
    "degout_distri"
   ]
  },
  {
   "cell_type": "code",
   "execution_count": null,
   "metadata": {},
   "outputs": [],
   "source": [
    "x=[]\n",
    "y=[]\n",
    "for i in sorted(degout_distri):   \n",
    "    x.append(i)\n",
    "    y.append(float(degout_distri[i])/len(H))\n",
    "\n",
    "plt.figure(figsize=(10,7))    \n",
    "plt.plot(np.array(x),np.array(y))\n",
    "\n",
    "plt.xlabel('$k_{out}$', fontsize=18)\n",
    "plt.ylabel('$P(k_{out})$', fontsize=18)\n",
    "\n",
    "plt.xticks(fontsize=14)\n",
    "plt.yticks(fontsize=14)\n",
    "\n",
    "plt.yscale('log')\n",
    "plt.xscale('log')\n",
    "plt.axis([1,10000,0.00001,1.0])\n",
    "plt.show()"
   ]
  },
  {
   "cell_type": "markdown",
   "metadata": {},
   "source": [
    "### Export to gml (be careful this is a large network!)"
   ]
  },
  {
   "cell_type": "markdown",
   "metadata": {},
   "source": [
    "The file in gml format can be visualized using the software tool Gephi (http://gephi.org)."
   ]
  },
  {
   "cell_type": "code",
   "execution_count": null,
   "metadata": {
    "collapsed": true
   },
   "outputs": [],
   "source": [
    "nx.write_gml(H,'./citHepTh.gml')"
   ]
  },
  {
   "cell_type": "markdown",
   "metadata": {},
   "source": [
    "# Visualizing a network with NetworkX"
   ]
  },
  {
   "cell_type": "markdown",
   "metadata": {},
   "source": [
    "NetworkX combined with matplotlib can be used to visualize complex networks. \n",
    "\n",
    "It provides a good range of functionalities to obtain some basic and more refined visualization. More details are available in the [documentation](https://networkx.github.io/documentation/development/reference/drawing.html)."
   ]
  },
  {
   "cell_type": "markdown",
   "metadata": {},
   "source": [
    "Notice, as stated in the documentation\n",
    ">NetworkX provides basic functionality for visualizing graphs, but its main goal is to enable graph analysis rather than perform graph visualization. \n",
    ">In the future, graph visualization functionality may be removed from NetworkX or only available as an add-on package.\n"
   ]
  },
  {
   "cell_type": "markdown",
   "metadata": {},
   "source": [
    "We generate a random Erdos-Renyi network and visualize it."
   ]
  },
  {
   "cell_type": "code",
   "execution_count": null,
   "metadata": {
    "collapsed": true
   },
   "outputs": [],
   "source": [
    "N=100\n",
    "prob=0.05"
   ]
  },
  {
   "cell_type": "code",
   "execution_count": null,
   "metadata": {
    "collapsed": true
   },
   "outputs": [],
   "source": [
    "ER=nx.erdos_renyi_graph(N, prob)"
   ]
  },
  {
   "cell_type": "code",
   "execution_count": null,
   "metadata": {},
   "outputs": [],
   "source": [
    "plt.figure(figsize=(8,6))\n",
    "nx.draw_networkx(ER)"
   ]
  },
  {
   "cell_type": "code",
   "execution_count": null,
   "metadata": {},
   "outputs": [],
   "source": [
    "plt.figure(figsize=(8,6))\n",
    "nx.draw_circular(ER)"
   ]
  },
  {
   "cell_type": "code",
   "execution_count": null,
   "metadata": {},
   "outputs": [],
   "source": [
    "plt.figure(figsize=(8,6))\n",
    "nx.draw_random(ER)"
   ]
  },
  {
   "cell_type": "code",
   "execution_count": null,
   "metadata": {},
   "outputs": [],
   "source": [
    "plt.figure(figsize=(8,6))\n",
    "nx.draw_spring(ER)"
   ]
  },
  {
   "cell_type": "code",
   "execution_count": null,
   "metadata": {},
   "outputs": [],
   "source": [
    "pos=nx.spring_layout(ER)\n",
    "pos"
   ]
  },
  {
   "cell_type": "markdown",
   "metadata": {},
   "source": [
    "We can draw the network nodes only, and assign a specific location to each node."
   ]
  },
  {
   "cell_type": "code",
   "execution_count": null,
   "metadata": {},
   "outputs": [],
   "source": [
    "plt.figure(figsize=(8,6))\n",
    "nx.draw_networkx_nodes(ER, pos)\n",
    "#plt.axis('off')"
   ]
  },
  {
   "cell_type": "code",
   "execution_count": null,
   "metadata": {},
   "outputs": [],
   "source": [
    "plt.figure(figsize=(8,6))\n",
    "\n",
    "s=nx.draw_networkx_nodes(ER,\n",
    "            pos,\n",
    "            node_size=100.0,\n",
    "            node_color=nx.degree(ER).values(),\n",
    "            alpha=1,\n",
    "            cmap=plt.cm.coolwarm\n",
    "            )\n",
    "\n",
    "nx.draw_networkx_edges(ER, pos, alpha=0.5)\n",
    "\n",
    "#show the colorbar on the right side\n",
    "cbar=plt.colorbar(s)\n",
    "cbar.ax.set_ylabel('Degree', size=22)\n",
    "\n",
    "#plt.axis('off')\n",
    "plt.show()"
   ]
  },
  {
   "cell_type": "markdown",
   "metadata": {},
   "source": [
    "# Visualizing a spatial network with NetworkX"
   ]
  },
  {
   "cell_type": "markdown",
   "metadata": {},
   "source": [
    "We analyze the US airport network of year 2010. \n",
    "The network is available from the [network repository of Tore Opshal](https://toreopsahl.com/datasets/#usairports).\n",
    "\n",
    "Weights represent the total number of passengers who traveled on that connection in a year.\n",
    "\n",
    "Airport coordinates have been added by myself.\n"
   ]
  },
  {
   "cell_type": "code",
   "execution_count": null,
   "metadata": {
    "collapsed": true
   },
   "outputs": [],
   "source": [
    "G=nx.Graph()\n",
    "fh=open('./USairport_2010.txt','r')\n",
    "for line in fh.readlines():\n",
    "    s=line.strip().split()\n",
    "    G.add_edge(int(s[0]),int(s[1]))\n",
    "fh.close()    "
   ]
  },
  {
   "cell_type": "code",
   "execution_count": null,
   "metadata": {},
   "outputs": [],
   "source": [
    "len(G)"
   ]
  },
  {
   "cell_type": "markdown",
   "metadata": {},
   "source": [
    "Is the network fully connected?"
   ]
  },
  {
   "cell_type": "code",
   "execution_count": null,
   "metadata": {},
   "outputs": [],
   "source": [
    "nx.number_connected_components(G)"
   ]
  },
  {
   "cell_type": "code",
   "execution_count": null,
   "metadata": {},
   "outputs": [],
   "source": [
    "c=list(nx.connected_components(G))\n",
    "c[-1]"
   ]
  },
  {
   "cell_type": "markdown",
   "metadata": {},
   "source": [
    "We define three dictionaries associated to the network to store additional node's features: IATA code, aiport name, geographic coordinates."
   ]
  },
  {
   "cell_type": "code",
   "execution_count": null,
   "metadata": {
    "collapsed": true
   },
   "outputs": [],
   "source": [
    "G.code={}\n",
    "G.name={}\n",
    "G.pos={}"
   ]
  },
  {
   "cell_type": "markdown",
   "metadata": {},
   "source": [
    "We extract nodes features from a file"
   ]
  },
  {
   "cell_type": "code",
   "execution_count": null,
   "metadata": {
    "collapsed": true
   },
   "outputs": [],
   "source": [
    "finfo=open('./USairport_2010_codes.txt','r')\n",
    "for line in finfo.readlines():\n",
    "    s=line.strip().split()\n",
    "    node=int(s[0])\n",
    "    G.code[node]=s[1]\n",
    "    G.name[node]=s[2]\n",
    "    G.pos[node]=[float(s[4]),float(s[3])]\n",
    "finfo.close() "
   ]
  },
  {
   "cell_type": "markdown",
   "metadata": {},
   "source": [
    "Draw the network"
   ]
  },
  {
   "cell_type": "code",
   "execution_count": null,
   "metadata": {},
   "outputs": [],
   "source": [
    "fig=plt.figure(figsize=(10,7))\n",
    "\n",
    "nx.draw_networkx_nodes(G,\n",
    "            pos=G.pos,\n",
    "            node_size=20\n",
    "            )\n",
    "\n",
    "nx.draw_networkx_labels(G,\n",
    "            pos=G.pos,\n",
    "            labels=G.code\n",
    "            )\n",
    "\n",
    "plt.axis('off')"
   ]
  },
  {
   "cell_type": "markdown",
   "metadata": {},
   "source": [
    "We would like to draw the edges but there are too many of them."
   ]
  },
  {
   "cell_type": "code",
   "execution_count": null,
   "metadata": {},
   "outputs": [],
   "source": [
    "len(G.edges())"
   ]
  },
  {
   "cell_type": "markdown",
   "metadata": {},
   "source": [
    "We select only the strongest connections as a subgraph of G by setting a threshold on the annual passengers volume."
   ]
  },
  {
   "cell_type": "code",
   "execution_count": null,
   "metadata": {
    "collapsed": true
   },
   "outputs": [],
   "source": [
    "weight_threshold=700000"
   ]
  },
  {
   "cell_type": "code",
   "execution_count": null,
   "metadata": {
    "collapsed": true
   },
   "outputs": [],
   "source": [
    "H=nx.Graph()\n",
    "\n",
    "H.pos={}\n",
    "H.code={}\n",
    "H.name={}\n",
    "\n",
    "fh=open('./USairport_2010.txt','r')\n",
    "for line in fh.readlines():\n",
    "    s=line.strip().split()\n",
    "    node1=int(s[0])\n",
    "    node2=int(s[1])\n",
    "    \n",
    "    if int(s[2])>weight_threshold:\n",
    "        H.add_edge(node1,node2)\n",
    "        \n",
    "        H.pos[node1]=G.pos[node1]\n",
    "        H.pos[node2]=G.pos[node2]\n",
    "        \n",
    "        H.code[node1]=G.code[node1]\n",
    "        H.code[node2]=G.code[node2]\n",
    "        \n",
    "        H.name[node1]=G.name[node1]\n",
    "        H.name[node2]=G.name[node2]\n",
    "        \n",
    "        \n",
    "fh.close()"
   ]
  },
  {
   "cell_type": "markdown",
   "metadata": {},
   "source": [
    "We draw the network and color code the nodes by their degree."
   ]
  },
  {
   "cell_type": "code",
   "execution_count": null,
   "metadata": {},
   "outputs": [],
   "source": [
    "import math\n",
    "fig=plt.figure(figsize=(14,10))\n",
    "\n",
    "s=nx.draw_networkx_nodes(G,\n",
    "            pos=G.pos,\n",
    "            node_color=[math.log(G.degree(v)) for v in G],\n",
    "            node_size=30,\n",
    "            cmap=plt.cm.YlOrRd\n",
    "            )\n",
    "\n",
    "nx.draw_networkx_edges(H,\n",
    "            pos=G.pos,\n",
    "            alpha=0.5\n",
    "            )\n",
    "\n",
    "nx.draw_networkx_labels(H,\n",
    "            pos=H.pos,\n",
    "            labels=H.name\n",
    "            )\n",
    "\n",
    "cbar=plt.colorbar(s)\n",
    "cbar.ax.set_ylabel('$log(k)$', size=22)\n",
    "\n",
    "plt.axis('off')"
   ]
  },
  {
   "cell_type": "markdown",
   "metadata": {},
   "source": [
    "What is the node with the largest degree?"
   ]
  },
  {
   "cell_type": "code",
   "execution_count": null,
   "metadata": {},
   "outputs": [],
   "source": [
    "max(G.degree().iteritems(), key=itemgetter(1))"
   ]
  },
  {
   "cell_type": "code",
   "execution_count": null,
   "metadata": {},
   "outputs": [],
   "source": [
    "G.name[389]"
   ]
  },
  {
   "cell_type": "markdown",
   "metadata": {
    "collapsed": true
   },
   "source": [
    "# Data visualization with NetworkX\n",
    "\n",
    "The easy interface of NetworkX and matplotlib to draw georeferenced data can be used to visualize all type of data points with geo-coordinates. \n",
    "\n",
    "A nice example comes from the electoral results of the municipality of Turin available at [the Open Data repository AperTO](http://aperto.comune.torino.it/?q=taxonomy/term/111)."
   ]
  },
  {
   "cell_type": "markdown",
   "metadata": {},
   "source": [
    "Electoral data can be geo-referenced through the [dataset containing every street number of the city with its coordinates](http://aperto.comune.torino.it/?q=node/504)."
   ]
  },
  {
   "cell_type": "markdown",
   "metadata": {},
   "source": [
    "Based on this idea, we created a Web-interface to explore electoral data of the city of Torino: [Il colore di Torino](http://datainterfaces.org/projects/ilcoloreditorino/)"
   ]
  },
  {
   "cell_type": "code",
   "execution_count": null,
   "metadata": {
    "collapsed": true
   },
   "outputs": [],
   "source": []
  }
 ],
 "metadata": {
  "kernelspec": {
   "display_name": "Python 2",
   "language": "python",
   "name": "python2"
  },
  "language_info": {
   "codemirror_mode": {
    "name": "ipython",
    "version": 2
   },
   "file_extension": ".py",
   "mimetype": "text/x-python",
   "name": "python",
   "nbconvert_exporter": "python",
   "pygments_lexer": "ipython2",
   "version": "2.7.12"
  }
 },
 "nbformat": 4,
 "nbformat_minor": 1
}
