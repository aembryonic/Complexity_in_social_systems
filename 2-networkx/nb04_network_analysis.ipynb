{
 "cells": [
  {
   "cell_type": "markdown",
   "metadata": {},
   "source": [
    "<center>\n",
    "<hr>\n",
    "<h1>Complessità nei sistemi sociali</h1>\n",
    "<h2>Laurea Magistrale in Fisica Dei Sistemi Complessi</h2>\n",
    "<h2>A.A. 2016/17</h2>\n",
    "<h3>Dr. Daniela Paolotti, Dr. Michele Tizzoni</h3>\n",
    "<h3>Basic network analysis with NetworkX, assortativity, resilience to attacks</h3>\n",
    "<hr>\n",
    "</center>"
   ]
  },
  {
   "cell_type": "code",
   "execution_count": 2,
   "metadata": {
    "collapsed": true
   },
   "outputs": [],
   "source": [
    "import networkx as nx\n",
    "import seaborn as sns"
   ]
  },
  {
   "cell_type": "code",
   "execution_count": 3,
   "metadata": {},
   "outputs": [
    {
     "name": "stdout",
     "output_type": "stream",
     "text": [
      "Populating the interactive namespace from numpy and matplotlib\n"
     ]
    }
   ],
   "source": [
    "%pylab inline"
   ]
  },
  {
   "cell_type": "markdown",
   "metadata": {},
   "source": [
    "### Measure the connectivity and clustering of a graph"
   ]
  },
  {
   "cell_type": "code",
   "execution_count": 4,
   "metadata": {
    "collapsed": true
   },
   "outputs": [],
   "source": [
    "G=nx.Graph()"
   ]
  },
  {
   "cell_type": "code",
   "execution_count": 5,
   "metadata": {
    "collapsed": true
   },
   "outputs": [],
   "source": [
    "#Download the network file 'ca-AstroPh' from SNAP@Stanford\n",
    "fh=open('./ca-AstroPh.txt','r')\n",
    "for line in fh.readlines():\n",
    "    s=line.strip().split()\n",
    "    if s[0]!='#':\n",
    "        origin=int(s[0])\n",
    "        dest=int(s[1])\n",
    "        G.add_edge(origin,dest)\n",
    "fh.close()"
   ]
  },
  {
   "cell_type": "code",
   "execution_count": 6,
   "metadata": {},
   "outputs": [
    {
     "name": "stdout",
     "output_type": "stream",
     "text": [
      "The graph has 18772 nodes\n",
      "and 198110 edges\n"
     ]
    }
   ],
   "source": [
    "print \"The graph has\", len(G), \"nodes\"\n",
    "print \"and\",len(G.edges()),\"edges\""
   ]
  },
  {
   "cell_type": "code",
   "execution_count": 7,
   "metadata": {},
   "outputs": [
    {
     "name": "stdout",
     "output_type": "stream",
     "text": [
      "Is the graph simply connected? False\n"
     ]
    }
   ],
   "source": [
    "print \"Is the graph simply connected?\", nx.is_connected(G)"
   ]
  },
  {
   "cell_type": "markdown",
   "metadata": {},
   "source": [
    "#### Show the components of the graph"
   ]
  },
  {
   "cell_type": "code",
   "execution_count": 8,
   "metadata": {},
   "outputs": [
    {
     "name": "stdout",
     "output_type": "stream",
     "text": [
      "The graph has 290 connected components\n"
     ]
    }
   ],
   "source": [
    "print \"The graph has\", nx.number_connected_components(G),\"connected components\""
   ]
  },
  {
   "cell_type": "code",
   "execution_count": 9,
   "metadata": {},
   "outputs": [
    {
     "name": "stdout",
     "output_type": "stream",
     "text": [
      "17903\n",
      "4\n",
      "2\n",
      "3\n",
      "2\n",
      "3\n",
      "3\n",
      "9\n",
      "4\n",
      "2\n",
      "3\n",
      "2\n",
      "4\n",
      "2\n",
      "2\n",
      "2\n",
      "5\n",
      "2\n",
      "2\n",
      "6\n",
      "3\n",
      "3\n",
      "8\n",
      "2\n",
      "2\n",
      "5\n",
      "3\n",
      "8\n",
      "5\n",
      "4\n",
      "2\n",
      "3\n",
      "3\n",
      "3\n",
      "3\n",
      "4\n",
      "2\n",
      "4\n",
      "2\n",
      "3\n",
      "5\n",
      "3\n",
      "4\n",
      "3\n",
      "3\n",
      "4\n",
      "2\n",
      "3\n",
      "3\n",
      "2\n",
      "18\n",
      "3\n",
      "2\n",
      "2\n",
      "3\n",
      "5\n",
      "2\n",
      "4\n",
      "3\n",
      "2\n",
      "3\n",
      "3\n",
      "3\n",
      "12\n",
      "7\n",
      "3\n",
      "2\n",
      "3\n",
      "3\n",
      "2\n",
      "3\n",
      "2\n",
      "5\n",
      "4\n",
      "3\n",
      "3\n",
      "2\n",
      "10\n",
      "3\n",
      "3\n",
      "2\n",
      "2\n",
      "4\n",
      "4\n",
      "2\n",
      "8\n",
      "2\n",
      "2\n",
      "2\n",
      "2\n",
      "4\n",
      "3\n",
      "5\n",
      "5\n",
      "5\n",
      "2\n",
      "3\n",
      "5\n",
      "4\n",
      "4\n",
      "3\n",
      "5\n",
      "4\n",
      "2\n",
      "2\n",
      "3\n",
      "2\n",
      "5\n",
      "2\n",
      "2\n",
      "3\n",
      "2\n",
      "3\n",
      "3\n",
      "3\n",
      "2\n",
      "3\n",
      "3\n",
      "4\n",
      "3\n",
      "2\n",
      "3\n",
      "2\n",
      "2\n",
      "2\n",
      "2\n",
      "3\n",
      "3\n",
      "2\n",
      "2\n",
      "3\n",
      "2\n",
      "2\n",
      "3\n",
      "4\n",
      "2\n",
      "2\n",
      "7\n",
      "3\n",
      "2\n",
      "3\n",
      "2\n",
      "3\n",
      "4\n",
      "4\n",
      "3\n",
      "2\n",
      "4\n",
      "4\n",
      "2\n",
      "2\n",
      "2\n",
      "2\n",
      "5\n",
      "2\n",
      "2\n",
      "4\n",
      "2\n",
      "3\n",
      "4\n",
      "2\n",
      "2\n",
      "3\n",
      "3\n",
      "2\n",
      "2\n",
      "2\n",
      "2\n",
      "2\n",
      "2\n",
      "3\n",
      "4\n",
      "3\n",
      "4\n",
      "2\n",
      "10\n",
      "4\n",
      "2\n",
      "2\n",
      "4\n",
      "2\n",
      "2\n",
      "3\n",
      "2\n",
      "2\n",
      "3\n",
      "3\n",
      "6\n",
      "3\n",
      "2\n",
      "2\n",
      "3\n",
      "3\n",
      "2\n",
      "7\n",
      "2\n",
      "2\n",
      "4\n",
      "3\n",
      "3\n",
      "2\n",
      "2\n",
      "2\n",
      "2\n",
      "3\n",
      "3\n",
      "2\n",
      "2\n",
      "2\n",
      "2\n",
      "4\n",
      "2\n",
      "3\n",
      "2\n",
      "2\n",
      "2\n",
      "4\n",
      "2\n",
      "2\n",
      "4\n",
      "3\n",
      "2\n",
      "2\n",
      "3\n",
      "3\n",
      "2\n",
      "2\n",
      "6\n",
      "3\n",
      "3\n",
      "2\n",
      "2\n",
      "2\n",
      "2\n",
      "2\n",
      "3\n",
      "4\n",
      "3\n",
      "2\n",
      "2\n",
      "2\n",
      "2\n",
      "2\n",
      "3\n",
      "2\n",
      "3\n",
      "2\n",
      "2\n",
      "3\n",
      "2\n",
      "2\n",
      "4\n",
      "2\n",
      "4\n",
      "2\n",
      "2\n",
      "3\n",
      "2\n",
      "5\n",
      "2\n",
      "2\n",
      "2\n",
      "2\n",
      "2\n",
      "2\n",
      "2\n",
      "2\n",
      "2\n",
      "2\n",
      "2\n",
      "3\n",
      "2\n",
      "2\n",
      "2\n",
      "2\n",
      "2\n",
      "3\n",
      "2\n",
      "2\n",
      "3\n",
      "2\n",
      "3\n",
      "2\n",
      "2\n",
      "2\n",
      "2\n",
      "4\n",
      "3\n",
      "3\n",
      "1\n"
     ]
    }
   ],
   "source": [
    "for k in nx.connected_components(G):\n",
    "    print len(k)"
   ]
  },
  {
   "cell_type": "markdown",
   "metadata": {},
   "source": [
    "#### Extract the largest Connected Component as a subgraph"
   ]
  },
  {
   "cell_type": "code",
   "execution_count": 10,
   "metadata": {},
   "outputs": [
    {
     "data": {
      "text/plain": [
       "<generator object connected_component_subgraphs at 0x10f076280>"
      ]
     },
     "execution_count": 10,
     "metadata": {},
     "output_type": "execute_result"
    }
   ],
   "source": [
    "nx.connected_component_subgraphs(G)"
   ]
  },
  {
   "cell_type": "code",
   "execution_count": 11,
   "metadata": {
    "collapsed": true
   },
   "outputs": [],
   "source": [
    "graphs = list(nx.connected_component_subgraphs(G))"
   ]
  },
  {
   "cell_type": "code",
   "execution_count": 12,
   "metadata": {},
   "outputs": [
    {
     "data": {
      "text/plain": [
       "[<networkx.classes.graph.Graph at 0x105868850>,\n",
       " <networkx.classes.graph.Graph at 0x10f04a350>,\n",
       " <networkx.classes.graph.Graph at 0x10b4560d0>,\n",
       " <networkx.classes.graph.Graph at 0x1052f2ed0>,\n",
       " <networkx.classes.graph.Graph at 0x1052f2990>,\n",
       " <networkx.classes.graph.Graph at 0x104293b90>,\n",
       " <networkx.classes.graph.Graph at 0x102817950>,\n",
       " <networkx.classes.graph.Graph at 0x104de9b10>,\n",
       " <networkx.classes.graph.Graph at 0x10f06e590>,\n",
       " <networkx.classes.graph.Graph at 0x10f06e290>,\n",
       " <networkx.classes.graph.Graph at 0x10f06e2d0>,\n",
       " <networkx.classes.graph.Graph at 0x10f06e650>,\n",
       " <networkx.classes.graph.Graph at 0x10f05dd90>,\n",
       " <networkx.classes.graph.Graph at 0x10f05da50>,\n",
       " <networkx.classes.graph.Graph at 0x10f05dc10>,\n",
       " <networkx.classes.graph.Graph at 0x10f05de50>,\n",
       " <networkx.classes.graph.Graph at 0x10f05ded0>,\n",
       " <networkx.classes.graph.Graph at 0x10f05d990>,\n",
       " <networkx.classes.graph.Graph at 0x10f05db10>,\n",
       " <networkx.classes.graph.Graph at 0x10f05dfd0>,\n",
       " <networkx.classes.graph.Graph at 0x10f05df10>,\n",
       " <networkx.classes.graph.Graph at 0x10f05df50>,\n",
       " <networkx.classes.graph.Graph at 0x10f05de90>,\n",
       " <networkx.classes.graph.Graph at 0x10f05de10>,\n",
       " <networkx.classes.graph.Graph at 0x10f05ddd0>,\n",
       " <networkx.classes.graph.Graph at 0x10f05dd10>,\n",
       " <networkx.classes.graph.Graph at 0x10f05dcd0>,\n",
       " <networkx.classes.graph.Graph at 0x10f05dc50>,\n",
       " <networkx.classes.graph.Graph at 0x10f05dc90>,\n",
       " <networkx.classes.graph.Graph at 0x10f05db50>,\n",
       " <networkx.classes.graph.Graph at 0x10f05d350>,\n",
       " <networkx.classes.graph.Graph at 0x10f05d290>,\n",
       " <networkx.classes.graph.Graph at 0x10f05d2d0>,\n",
       " <networkx.classes.graph.Graph at 0x10f05d190>,\n",
       " <networkx.classes.graph.Graph at 0x10f05d210>,\n",
       " <networkx.classes.graph.Graph at 0x10f05d150>,\n",
       " <networkx.classes.graph.Graph at 0x10f05d1d0>,\n",
       " <networkx.classes.graph.Graph at 0x105280850>,\n",
       " <networkx.classes.graph.Graph at 0x105280790>,\n",
       " <networkx.classes.graph.Graph at 0x10f280050>,\n",
       " <networkx.classes.graph.Graph at 0x10f280090>,\n",
       " <networkx.classes.graph.Graph at 0x10f2800d0>,\n",
       " <networkx.classes.graph.Graph at 0x10f280110>,\n",
       " <networkx.classes.graph.Graph at 0x10f280150>,\n",
       " <networkx.classes.graph.Graph at 0x10f280190>,\n",
       " <networkx.classes.graph.Graph at 0x10f2801d0>,\n",
       " <networkx.classes.graph.Graph at 0x10f280210>,\n",
       " <networkx.classes.graph.Graph at 0x10f280250>,\n",
       " <networkx.classes.graph.Graph at 0x10f280290>,\n",
       " <networkx.classes.graph.Graph at 0x10f2802d0>,\n",
       " <networkx.classes.graph.Graph at 0x10f280310>,\n",
       " <networkx.classes.graph.Graph at 0x10f280350>,\n",
       " <networkx.classes.graph.Graph at 0x10f280390>,\n",
       " <networkx.classes.graph.Graph at 0x10f2803d0>,\n",
       " <networkx.classes.graph.Graph at 0x10f280410>,\n",
       " <networkx.classes.graph.Graph at 0x10f280450>,\n",
       " <networkx.classes.graph.Graph at 0x10f280490>,\n",
       " <networkx.classes.graph.Graph at 0x10f2804d0>,\n",
       " <networkx.classes.graph.Graph at 0x10f280510>,\n",
       " <networkx.classes.graph.Graph at 0x10f280550>,\n",
       " <networkx.classes.graph.Graph at 0x10f280590>,\n",
       " <networkx.classes.graph.Graph at 0x10f2805d0>,\n",
       " <networkx.classes.graph.Graph at 0x10f280610>,\n",
       " <networkx.classes.graph.Graph at 0x10f280650>,\n",
       " <networkx.classes.graph.Graph at 0x10f280690>,\n",
       " <networkx.classes.graph.Graph at 0x10f2806d0>,\n",
       " <networkx.classes.graph.Graph at 0x10f280710>,\n",
       " <networkx.classes.graph.Graph at 0x10f280750>,\n",
       " <networkx.classes.graph.Graph at 0x10f280790>,\n",
       " <networkx.classes.graph.Graph at 0x10f2807d0>,\n",
       " <networkx.classes.graph.Graph at 0x10f280810>,\n",
       " <networkx.classes.graph.Graph at 0x10f280850>,\n",
       " <networkx.classes.graph.Graph at 0x10f280890>,\n",
       " <networkx.classes.graph.Graph at 0x10f2808d0>,\n",
       " <networkx.classes.graph.Graph at 0x10f280910>,\n",
       " <networkx.classes.graph.Graph at 0x10f280950>,\n",
       " <networkx.classes.graph.Graph at 0x10f280990>,\n",
       " <networkx.classes.graph.Graph at 0x10f2809d0>,\n",
       " <networkx.classes.graph.Graph at 0x10f280a10>,\n",
       " <networkx.classes.graph.Graph at 0x10f280a50>,\n",
       " <networkx.classes.graph.Graph at 0x10f280a90>,\n",
       " <networkx.classes.graph.Graph at 0x10f280ad0>,\n",
       " <networkx.classes.graph.Graph at 0x10f280b10>,\n",
       " <networkx.classes.graph.Graph at 0x10f280b50>,\n",
       " <networkx.classes.graph.Graph at 0x10f280b90>,\n",
       " <networkx.classes.graph.Graph at 0x10f280bd0>,\n",
       " <networkx.classes.graph.Graph at 0x10f280c10>,\n",
       " <networkx.classes.graph.Graph at 0x10f280c50>,\n",
       " <networkx.classes.graph.Graph at 0x10f280c90>,\n",
       " <networkx.classes.graph.Graph at 0x10f280cd0>,\n",
       " <networkx.classes.graph.Graph at 0x10f280d10>,\n",
       " <networkx.classes.graph.Graph at 0x10f280d50>,\n",
       " <networkx.classes.graph.Graph at 0x10f280d90>,\n",
       " <networkx.classes.graph.Graph at 0x10f280dd0>,\n",
       " <networkx.classes.graph.Graph at 0x10f280e10>,\n",
       " <networkx.classes.graph.Graph at 0x10f280e50>,\n",
       " <networkx.classes.graph.Graph at 0x10f280e90>,\n",
       " <networkx.classes.graph.Graph at 0x10f280ed0>,\n",
       " <networkx.classes.graph.Graph at 0x10f280f10>,\n",
       " <networkx.classes.graph.Graph at 0x10f280f50>,\n",
       " <networkx.classes.graph.Graph at 0x10f280f90>,\n",
       " <networkx.classes.graph.Graph at 0x10f280fd0>,\n",
       " <networkx.classes.graph.Graph at 0x12042f050>,\n",
       " <networkx.classes.graph.Graph at 0x12042f090>,\n",
       " <networkx.classes.graph.Graph at 0x12042f0d0>,\n",
       " <networkx.classes.graph.Graph at 0x12042f110>,\n",
       " <networkx.classes.graph.Graph at 0x12042f150>,\n",
       " <networkx.classes.graph.Graph at 0x12042f190>,\n",
       " <networkx.classes.graph.Graph at 0x12042f1d0>,\n",
       " <networkx.classes.graph.Graph at 0x12042f210>,\n",
       " <networkx.classes.graph.Graph at 0x12042f250>,\n",
       " <networkx.classes.graph.Graph at 0x12042f290>,\n",
       " <networkx.classes.graph.Graph at 0x12042f2d0>,\n",
       " <networkx.classes.graph.Graph at 0x12042f310>,\n",
       " <networkx.classes.graph.Graph at 0x12042f350>,\n",
       " <networkx.classes.graph.Graph at 0x12042f390>,\n",
       " <networkx.classes.graph.Graph at 0x12042f3d0>,\n",
       " <networkx.classes.graph.Graph at 0x12042f410>,\n",
       " <networkx.classes.graph.Graph at 0x12042f450>,\n",
       " <networkx.classes.graph.Graph at 0x12042f490>,\n",
       " <networkx.classes.graph.Graph at 0x12042f4d0>,\n",
       " <networkx.classes.graph.Graph at 0x12042f510>,\n",
       " <networkx.classes.graph.Graph at 0x12042f550>,\n",
       " <networkx.classes.graph.Graph at 0x12042f590>,\n",
       " <networkx.classes.graph.Graph at 0x12042f5d0>,\n",
       " <networkx.classes.graph.Graph at 0x12042f610>,\n",
       " <networkx.classes.graph.Graph at 0x12042f650>,\n",
       " <networkx.classes.graph.Graph at 0x12042f690>,\n",
       " <networkx.classes.graph.Graph at 0x12042f6d0>,\n",
       " <networkx.classes.graph.Graph at 0x12042f710>,\n",
       " <networkx.classes.graph.Graph at 0x12042f750>,\n",
       " <networkx.classes.graph.Graph at 0x12042f790>,\n",
       " <networkx.classes.graph.Graph at 0x12042f7d0>,\n",
       " <networkx.classes.graph.Graph at 0x12042f810>,\n",
       " <networkx.classes.graph.Graph at 0x12042f850>,\n",
       " <networkx.classes.graph.Graph at 0x12042f890>,\n",
       " <networkx.classes.graph.Graph at 0x12042f8d0>,\n",
       " <networkx.classes.graph.Graph at 0x12042f910>,\n",
       " <networkx.classes.graph.Graph at 0x12042f950>,\n",
       " <networkx.classes.graph.Graph at 0x12042f990>,\n",
       " <networkx.classes.graph.Graph at 0x12042f9d0>,\n",
       " <networkx.classes.graph.Graph at 0x12042fa10>,\n",
       " <networkx.classes.graph.Graph at 0x12042fa50>,\n",
       " <networkx.classes.graph.Graph at 0x12042fa90>,\n",
       " <networkx.classes.graph.Graph at 0x12042fad0>,\n",
       " <networkx.classes.graph.Graph at 0x12042fb10>,\n",
       " <networkx.classes.graph.Graph at 0x12042fb50>,\n",
       " <networkx.classes.graph.Graph at 0x12042fb90>,\n",
       " <networkx.classes.graph.Graph at 0x12042fbd0>,\n",
       " <networkx.classes.graph.Graph at 0x12042fc10>,\n",
       " <networkx.classes.graph.Graph at 0x12042fc50>,\n",
       " <networkx.classes.graph.Graph at 0x12042fc90>,\n",
       " <networkx.classes.graph.Graph at 0x12042fcd0>,\n",
       " <networkx.classes.graph.Graph at 0x12042fd10>,\n",
       " <networkx.classes.graph.Graph at 0x12042fd50>,\n",
       " <networkx.classes.graph.Graph at 0x12042fd90>,\n",
       " <networkx.classes.graph.Graph at 0x12042fdd0>,\n",
       " <networkx.classes.graph.Graph at 0x12042fe10>,\n",
       " <networkx.classes.graph.Graph at 0x12042fe50>,\n",
       " <networkx.classes.graph.Graph at 0x12042fe90>,\n",
       " <networkx.classes.graph.Graph at 0x12042fed0>,\n",
       " <networkx.classes.graph.Graph at 0x12042ff10>,\n",
       " <networkx.classes.graph.Graph at 0x12042ff50>,\n",
       " <networkx.classes.graph.Graph at 0x12042ff90>,\n",
       " <networkx.classes.graph.Graph at 0x12042ffd0>,\n",
       " <networkx.classes.graph.Graph at 0x10f847050>,\n",
       " <networkx.classes.graph.Graph at 0x10f847090>,\n",
       " <networkx.classes.graph.Graph at 0x10f8470d0>,\n",
       " <networkx.classes.graph.Graph at 0x10f847110>,\n",
       " <networkx.classes.graph.Graph at 0x10f847150>,\n",
       " <networkx.classes.graph.Graph at 0x10f847190>,\n",
       " <networkx.classes.graph.Graph at 0x10f8471d0>,\n",
       " <networkx.classes.graph.Graph at 0x10f847210>,\n",
       " <networkx.classes.graph.Graph at 0x10f847250>,\n",
       " <networkx.classes.graph.Graph at 0x10f847290>,\n",
       " <networkx.classes.graph.Graph at 0x10f8472d0>,\n",
       " <networkx.classes.graph.Graph at 0x10f847310>,\n",
       " <networkx.classes.graph.Graph at 0x10f847350>,\n",
       " <networkx.classes.graph.Graph at 0x10f847390>,\n",
       " <networkx.classes.graph.Graph at 0x10f8473d0>,\n",
       " <networkx.classes.graph.Graph at 0x10f847410>,\n",
       " <networkx.classes.graph.Graph at 0x10f847450>,\n",
       " <networkx.classes.graph.Graph at 0x10f847490>,\n",
       " <networkx.classes.graph.Graph at 0x10f8474d0>,\n",
       " <networkx.classes.graph.Graph at 0x10f847510>,\n",
       " <networkx.classes.graph.Graph at 0x10f847550>,\n",
       " <networkx.classes.graph.Graph at 0x10f847590>,\n",
       " <networkx.classes.graph.Graph at 0x10f8475d0>,\n",
       " <networkx.classes.graph.Graph at 0x10f847610>,\n",
       " <networkx.classes.graph.Graph at 0x10f847650>,\n",
       " <networkx.classes.graph.Graph at 0x10f847690>,\n",
       " <networkx.classes.graph.Graph at 0x10f8476d0>,\n",
       " <networkx.classes.graph.Graph at 0x10f847710>,\n",
       " <networkx.classes.graph.Graph at 0x10f847750>,\n",
       " <networkx.classes.graph.Graph at 0x10f847790>,\n",
       " <networkx.classes.graph.Graph at 0x10f8477d0>,\n",
       " <networkx.classes.graph.Graph at 0x10f847810>,\n",
       " <networkx.classes.graph.Graph at 0x10f847850>,\n",
       " <networkx.classes.graph.Graph at 0x10f847890>,\n",
       " <networkx.classes.graph.Graph at 0x10f8478d0>,\n",
       " <networkx.classes.graph.Graph at 0x10f847910>,\n",
       " <networkx.classes.graph.Graph at 0x10f847950>,\n",
       " <networkx.classes.graph.Graph at 0x10f847990>,\n",
       " <networkx.classes.graph.Graph at 0x10f8479d0>,\n",
       " <networkx.classes.graph.Graph at 0x10f847a10>,\n",
       " <networkx.classes.graph.Graph at 0x10f847a50>,\n",
       " <networkx.classes.graph.Graph at 0x10f847a90>,\n",
       " <networkx.classes.graph.Graph at 0x10f847ad0>,\n",
       " <networkx.classes.graph.Graph at 0x10f847b10>,\n",
       " <networkx.classes.graph.Graph at 0x10f847b50>,\n",
       " <networkx.classes.graph.Graph at 0x10f847b90>,\n",
       " <networkx.classes.graph.Graph at 0x10f847bd0>,\n",
       " <networkx.classes.graph.Graph at 0x10f847c10>,\n",
       " <networkx.classes.graph.Graph at 0x10f847c50>,\n",
       " <networkx.classes.graph.Graph at 0x10f847c90>,\n",
       " <networkx.classes.graph.Graph at 0x10f847cd0>,\n",
       " <networkx.classes.graph.Graph at 0x10f847d10>,\n",
       " <networkx.classes.graph.Graph at 0x10f847d50>,\n",
       " <networkx.classes.graph.Graph at 0x10f847d90>,\n",
       " <networkx.classes.graph.Graph at 0x10f847dd0>,\n",
       " <networkx.classes.graph.Graph at 0x10f847e10>,\n",
       " <networkx.classes.graph.Graph at 0x10f847e50>,\n",
       " <networkx.classes.graph.Graph at 0x10f847e90>,\n",
       " <networkx.classes.graph.Graph at 0x10f847ed0>,\n",
       " <networkx.classes.graph.Graph at 0x10f847f10>,\n",
       " <networkx.classes.graph.Graph at 0x10f847f50>,\n",
       " <networkx.classes.graph.Graph at 0x10f847f90>,\n",
       " <networkx.classes.graph.Graph at 0x10f847fd0>,\n",
       " <networkx.classes.graph.Graph at 0x110872050>,\n",
       " <networkx.classes.graph.Graph at 0x110872090>,\n",
       " <networkx.classes.graph.Graph at 0x1108720d0>,\n",
       " <networkx.classes.graph.Graph at 0x110872110>,\n",
       " <networkx.classes.graph.Graph at 0x110872150>,\n",
       " <networkx.classes.graph.Graph at 0x110872190>,\n",
       " <networkx.classes.graph.Graph at 0x1108721d0>,\n",
       " <networkx.classes.graph.Graph at 0x110872210>,\n",
       " <networkx.classes.graph.Graph at 0x110872250>,\n",
       " <networkx.classes.graph.Graph at 0x110872290>,\n",
       " <networkx.classes.graph.Graph at 0x1108722d0>,\n",
       " <networkx.classes.graph.Graph at 0x110872310>,\n",
       " <networkx.classes.graph.Graph at 0x110872350>,\n",
       " <networkx.classes.graph.Graph at 0x110872390>,\n",
       " <networkx.classes.graph.Graph at 0x1108723d0>,\n",
       " <networkx.classes.graph.Graph at 0x110872410>,\n",
       " <networkx.classes.graph.Graph at 0x110872450>,\n",
       " <networkx.classes.graph.Graph at 0x110872490>,\n",
       " <networkx.classes.graph.Graph at 0x1108724d0>,\n",
       " <networkx.classes.graph.Graph at 0x110872510>,\n",
       " <networkx.classes.graph.Graph at 0x110872550>,\n",
       " <networkx.classes.graph.Graph at 0x110872590>,\n",
       " <networkx.classes.graph.Graph at 0x1108725d0>,\n",
       " <networkx.classes.graph.Graph at 0x110872610>,\n",
       " <networkx.classes.graph.Graph at 0x110872650>,\n",
       " <networkx.classes.graph.Graph at 0x110872690>,\n",
       " <networkx.classes.graph.Graph at 0x1108726d0>,\n",
       " <networkx.classes.graph.Graph at 0x110872710>,\n",
       " <networkx.classes.graph.Graph at 0x110872750>,\n",
       " <networkx.classes.graph.Graph at 0x110872790>,\n",
       " <networkx.classes.graph.Graph at 0x1108727d0>,\n",
       " <networkx.classes.graph.Graph at 0x110872810>,\n",
       " <networkx.classes.graph.Graph at 0x110872850>,\n",
       " <networkx.classes.graph.Graph at 0x110872890>,\n",
       " <networkx.classes.graph.Graph at 0x1108728d0>,\n",
       " <networkx.classes.graph.Graph at 0x110872910>,\n",
       " <networkx.classes.graph.Graph at 0x110872950>,\n",
       " <networkx.classes.graph.Graph at 0x110872990>,\n",
       " <networkx.classes.graph.Graph at 0x1108729d0>,\n",
       " <networkx.classes.graph.Graph at 0x110872a10>,\n",
       " <networkx.classes.graph.Graph at 0x110872a50>,\n",
       " <networkx.classes.graph.Graph at 0x110872a90>,\n",
       " <networkx.classes.graph.Graph at 0x110872ad0>,\n",
       " <networkx.classes.graph.Graph at 0x110872b10>,\n",
       " <networkx.classes.graph.Graph at 0x110872b50>,\n",
       " <networkx.classes.graph.Graph at 0x110872b90>,\n",
       " <networkx.classes.graph.Graph at 0x110872bd0>,\n",
       " <networkx.classes.graph.Graph at 0x110872c10>,\n",
       " <networkx.classes.graph.Graph at 0x110872c50>,\n",
       " <networkx.classes.graph.Graph at 0x110872c90>,\n",
       " <networkx.classes.graph.Graph at 0x110872cd0>,\n",
       " <networkx.classes.graph.Graph at 0x110872d10>,\n",
       " <networkx.classes.graph.Graph at 0x110872d50>,\n",
       " <networkx.classes.graph.Graph at 0x110872d90>,\n",
       " <networkx.classes.graph.Graph at 0x110872dd0>,\n",
       " <networkx.classes.graph.Graph at 0x110872e10>,\n",
       " <networkx.classes.graph.Graph at 0x110872e50>,\n",
       " <networkx.classes.graph.Graph at 0x110872e90>,\n",
       " <networkx.classes.graph.Graph at 0x110872ed0>,\n",
       " <networkx.classes.graph.Graph at 0x110872f10>,\n",
       " <networkx.classes.graph.Graph at 0x110872f50>,\n",
       " <networkx.classes.graph.Graph at 0x110872f90>]"
      ]
     },
     "execution_count": 12,
     "metadata": {},
     "output_type": "execute_result"
    }
   ],
   "source": [
    "graphs"
   ]
  },
  {
   "cell_type": "code",
   "execution_count": 13,
   "metadata": {
    "collapsed": true
   },
   "outputs": [],
   "source": [
    "H=graphs[0]"
   ]
  },
  {
   "cell_type": "code",
   "execution_count": 14,
   "metadata": {},
   "outputs": [
    {
     "name": "stdout",
     "output_type": "stream",
     "text": [
      "869\n"
     ]
    }
   ],
   "source": [
    "print len(G)-len(H)"
   ]
  },
  {
   "cell_type": "code",
   "execution_count": 15,
   "metadata": {},
   "outputs": [
    {
     "name": "stdout",
     "output_type": "stream",
     "text": [
      "Check that the graph is now connected\n"
     ]
    },
    {
     "data": {
      "text/plain": [
       "1"
      ]
     },
     "execution_count": 15,
     "metadata": {},
     "output_type": "execute_result"
    }
   ],
   "source": [
    "print \"Check that the graph is now connected\"\n",
    "nx.number_connected_components(H)"
   ]
  },
  {
   "cell_type": "markdown",
   "metadata": {},
   "source": [
    "## Average clustering coefficient"
   ]
  },
  {
   "cell_type": "markdown",
   "metadata": {},
   "source": [
    "As an alternative to the global clustering coefficient, the overall level of clustering in a network is measured by Watts and Strogatz as the average of the local clustering coefficients of all the vertices $n$:\n",
    "\n",
    "$\\bar{C} = \\frac{1}{n}\\sum_{i=1}^{n} C_i.$\n",
    "\n",
    "It is worth noting that this metric places more weight on the low degree nodes, while the transitivity ratio places more weight on the high degree nodes. In fact, a weighted average where each local clustering score is weighted by $k_i(k_i-1)$ is identical to the global clustering coefficient."
   ]
  },
  {
   "cell_type": "code",
   "execution_count": 16,
   "metadata": {},
   "outputs": [
    {
     "name": "stdout",
     "output_type": "stream",
     "text": [
      "The average clustering coefficient of G is\n"
     ]
    },
    {
     "data": {
      "text/plain": [
       "0.6305932411707976"
      ]
     },
     "execution_count": 16,
     "metadata": {},
     "output_type": "execute_result"
    }
   ],
   "source": [
    "print \"The average clustering coefficient of G is\"\n",
    "nx.average_clustering(G)"
   ]
  },
  {
   "cell_type": "code",
   "execution_count": null,
   "metadata": {
    "collapsed": true
   },
   "outputs": [],
   "source": [
    "nx.triangles(G)"
   ]
  },
  {
   "cell_type": "markdown",
   "metadata": {},
   "source": [
    "How many triangles there are in the whole network?"
   ]
  },
  {
   "cell_type": "code",
   "execution_count": null,
   "metadata": {
    "collapsed": true
   },
   "outputs": [],
   "source": [
    "print float(sum(nx.triangles(G).values()))/3"
   ]
  },
  {
   "cell_type": "markdown",
   "metadata": {},
   "source": [
    "#### Compare the results with a random ER network"
   ]
  },
  {
   "cell_type": "markdown",
   "metadata": {},
   "source": [
    "We generate a random Erdos-Renyi graph with same average connectivity of H"
   ]
  },
  {
   "cell_type": "code",
   "execution_count": 17,
   "metadata": {
    "collapsed": true
   },
   "outputs": [],
   "source": [
    "nnodes=18000\n",
    "plink=0.00122\n",
    "\n",
    "ER=nx.fast_gnp_random_graph(nnodes, plink)"
   ]
  },
  {
   "cell_type": "code",
   "execution_count": 18,
   "metadata": {},
   "outputs": [
    {
     "name": "stdout",
     "output_type": "stream",
     "text": [
      "The ER graph has 18000 nodes\n",
      "and 197514 edges\n"
     ]
    }
   ],
   "source": [
    "print \"The ER graph has\", len(ER), \"nodes\"\n",
    "print \"and\",len(ER.edges()),\"edges\""
   ]
  },
  {
   "cell_type": "code",
   "execution_count": 19,
   "metadata": {},
   "outputs": [
    {
     "name": "stdout",
     "output_type": "stream",
     "text": [
      "The average clustering coefficient of ER is\n"
     ]
    },
    {
     "data": {
      "text/plain": [
       "0.001216395385141159"
      ]
     },
     "execution_count": 19,
     "metadata": {},
     "output_type": "execute_result"
    }
   ],
   "source": [
    "print \"The average clustering coefficient of ER is\"\n",
    "nx.average_clustering(ER)"
   ]
  },
  {
   "cell_type": "code",
   "execution_count": null,
   "metadata": {
    "collapsed": true
   },
   "outputs": [],
   "source": [
    "print float(sum(nx.triangles(ER).values()))/3"
   ]
  },
  {
   "cell_type": "code",
   "execution_count": null,
   "metadata": {
    "collapsed": true
   },
   "outputs": [],
   "source": [
    "nx.is_connected(ER)"
   ]
  },
  {
   "cell_type": "markdown",
   "metadata": {},
   "source": [
    "#### Compare the results with a random AB network"
   ]
  },
  {
   "cell_type": "code",
   "execution_count": null,
   "metadata": {
    "collapsed": true
   },
   "outputs": [],
   "source": [
    "AB=nx.barabasi_albert_graph(18000,10)"
   ]
  },
  {
   "cell_type": "code",
   "execution_count": null,
   "metadata": {
    "collapsed": true
   },
   "outputs": [],
   "source": [
    "from collections import Counter #this is a subclass of dictionary\n",
    "\n",
    "c=Counter(AB.degree().values())"
   ]
  },
  {
   "cell_type": "code",
   "execution_count": null,
   "metadata": {
    "collapsed": true
   },
   "outputs": [],
   "source": [
    "x=[]\n",
    "y=[]\n",
    "for i in sorted(c):   \n",
    "    x.append(i)\n",
    "    y.append(float(c[i])/len(AB))\n",
    "\n",
    "    \n",
    "plt.plot(np.array(x),np.array(y))\n",
    "\n",
    "plt.xlabel('$k$', fontsize=18)\n",
    "plt.ylabel('$P(k)$', fontsize=18)\n",
    "plt.xticks(fontsize=14)\n",
    "plt.yticks(fontsize=14)\n",
    "plt.yscale('log')\n",
    "plt.xscale('log')\n",
    "plt.axis([10,1000,0.00001,1])\n",
    "plt.show()"
   ]
  },
  {
   "cell_type": "code",
   "execution_count": null,
   "metadata": {
    "collapsed": true
   },
   "outputs": [],
   "source": [
    "print \"The AB graph has\", len(AB), \"nodes\"\n",
    "print \"and\",len(AB.edges()),\"edges\""
   ]
  },
  {
   "cell_type": "code",
   "execution_count": null,
   "metadata": {
    "collapsed": true
   },
   "outputs": [],
   "source": [
    "print \"The average clustering coefficient of AB is\"\n",
    "nx.average_clustering(AB)"
   ]
  },
  {
   "cell_type": "code",
   "execution_count": null,
   "metadata": {
    "collapsed": true
   },
   "outputs": [],
   "source": [
    "print \"The number of triangles is \", float(sum(nx.triangles(AB).values()))/3.0"
   ]
  },
  {
   "cell_type": "markdown",
   "metadata": {},
   "source": [
    "## Closeness Centrality"
   ]
  },
  {
   "cell_type": "markdown",
   "metadata": {},
   "source": [
    "In connected graphs there is a natural distance metric between all pairs of nodes, defined by the length of their shortest paths. \n",
    "The '''farness''' of a node ''x'' is defined as the sum of its distances from all other nodes, and its closeness was defined by Bavelas as the reciprocal of the farness that is:\n",
    "\n",
    "$C(x)= \\frac{1}{\\sum_y d(y,x)}.$\n",
    "\n",
    "Thus, the more central a node is the lower its total distance from all other nodes. Note that taking distances ''from'' or ''to'' all other nodes is irrelevant in undirected graphs, whereas in directed graphs distances ''to'' a node are considered a more meaningful measure of centrality, as in general (e.g., in, the web) a node has little control over its incoming links.\n"
   ]
  },
  {
   "cell_type": "markdown",
   "metadata": {},
   "source": [
    "####Be careful! Computing all the distances between pair of nodes can be intensive."
   ]
  },
  {
   "cell_type": "code",
   "execution_count": null,
   "metadata": {
    "collapsed": true
   },
   "outputs": [],
   "source": [
    "close_centr=nx.closeness_centrality(G)"
   ]
  },
  {
   "cell_type": "code",
   "execution_count": null,
   "metadata": {
    "collapsed": true
   },
   "outputs": [],
   "source": [
    "print close_centr"
   ]
  },
  {
   "cell_type": "markdown",
   "metadata": {},
   "source": [
    "## Measure the assortativity of the network"
   ]
  },
  {
   "cell_type": "markdown",
   "metadata": {},
   "source": [
    "Assortativity can be measured in different ways. A simple approach is measuring the average nearest neighbor degree."
   ]
  },
  {
   "cell_type": "code",
   "execution_count": null,
   "metadata": {
    "collapsed": true
   },
   "outputs": [],
   "source": [
    "from collections import defaultdict"
   ]
  },
  {
   "cell_type": "code",
   "execution_count": null,
   "metadata": {
    "collapsed": true
   },
   "outputs": [],
   "source": [
    "x=[]\n",
    "y=[]\n",
    "\n",
    "avg_knn=defaultdict(list)\n",
    "\n",
    "for n in G.nodes():\n",
    "    k=G.degree(n)\n",
    "    \n",
    "    nn=len(G.neighbors(n))\n",
    "    total=0\n",
    "    for j in G.neighbors(n):\n",
    "        total+=G.degree(j)\n",
    "    \n",
    "    avg_knn[k].append(float(total)/nn)\n",
    "    \n",
    "    x.append(k)\n",
    "    y.append(float(total)/nn)"
   ]
  },
  {
   "cell_type": "code",
   "execution_count": null,
   "metadata": {
    "collapsed": true
   },
   "outputs": [],
   "source": [
    "plt.figure(figsize=(10,7))\n",
    "plt.scatter(x,y)\n",
    "\n",
    "plt.xlabel('$k_i$', fontsize=18)\n",
    "plt.ylabel('$k_{nn}$', fontsize=18)\n",
    "plt.xticks(fontsize=14)\n",
    "plt.yticks(fontsize=14)\n",
    "plt.yscale('log')\n",
    "plt.xscale('log')\n",
    "plt.axis([0.1,1000,1,1000])\n",
    "plt.show()"
   ]
  },
  {
   "cell_type": "code",
   "execution_count": null,
   "metadata": {
    "collapsed": true
   },
   "outputs": [],
   "source": [
    "z=[]\n",
    "for k in avg_knn:\n",
    "    knn=np.array(avg_knn[k])\n",
    "    z.append(np.average(knn))\n",
    "    #print k, np.average(knn)"
   ]
  },
  {
   "cell_type": "code",
   "execution_count": null,
   "metadata": {
    "collapsed": true
   },
   "outputs": [],
   "source": [
    "plt.figure(figsize=(10,7))\n",
    "plt.scatter(x,y)\n",
    "plt.plot(avg_knn.keys(),z, color='r')\n",
    "\n",
    "plt.xlabel('$k_i$', fontsize=18)\n",
    "plt.ylabel('$k_{nn}$', fontsize=18)\n",
    "plt.xticks(fontsize=14)\n",
    "plt.yticks(fontsize=14)\n",
    "plt.yscale('log')\n",
    "plt.xscale('log')\n",
    "plt.axis([0.1,1000,1,1000])\n",
    "plt.show()"
   ]
  },
  {
   "cell_type": "code",
   "execution_count": null,
   "metadata": {
    "collapsed": true
   },
   "outputs": [],
   "source": [
    "r=nx.degree_assortativity_coefficient(G)"
   ]
  },
  {
   "cell_type": "code",
   "execution_count": null,
   "metadata": {
    "collapsed": true
   },
   "outputs": [],
   "source": [
    "print r"
   ]
  },
  {
   "cell_type": "markdown",
   "metadata": {},
   "source": [
    "The degree assortativity coefficient of a ER graph is much smaller."
   ]
  },
  {
   "cell_type": "code",
   "execution_count": null,
   "metadata": {
    "collapsed": true
   },
   "outputs": [],
   "source": [
    "ERr=nx.degree_assortativity_coefficient(ER)"
   ]
  },
  {
   "cell_type": "code",
   "execution_count": null,
   "metadata": {
    "collapsed": true
   },
   "outputs": [],
   "source": [
    "ERr"
   ]
  },
  {
   "cell_type": "markdown",
   "metadata": {},
   "source": [
    "NetworkX offers a number of functions to compute the same quantity."
   ]
  },
  {
   "cell_type": "code",
   "execution_count": null,
   "metadata": {
    "collapsed": true
   },
   "outputs": [],
   "source": [
    "knn_avg2=nx.average_degree_connectivity(G)"
   ]
  },
  {
   "cell_type": "code",
   "execution_count": null,
   "metadata": {
    "collapsed": true
   },
   "outputs": [],
   "source": [
    "print knn_avg2"
   ]
  },
  {
   "cell_type": "code",
   "execution_count": null,
   "metadata": {
    "collapsed": true
   },
   "outputs": [],
   "source": [
    "knn_avg3=nx.k_nearest_neighbors(G)"
   ]
  },
  {
   "cell_type": "code",
   "execution_count": null,
   "metadata": {
    "collapsed": true
   },
   "outputs": [],
   "source": [
    "print knn_avg3"
   ]
  },
  {
   "cell_type": "code",
   "execution_count": null,
   "metadata": {
    "collapsed": true
   },
   "outputs": [],
   "source": [
    "r2=nx.degree_pearson_correlation_coefficient(G)\n",
    "print r2 "
   ]
  },
  {
   "cell_type": "markdown",
   "metadata": {},
   "source": [
    "# Random and targeted attacks and resilience"
   ]
  },
  {
   "cell_type": "markdown",
   "metadata": {},
   "source": [
    "Resilience is the ability to provide and maintain an acceptable level of service in the face of faults and challenges to normal operation. Threats and challenges for services can range from simple misconfiguration over large scale natural disasters to targeted attacks."
   ]
  },
  {
   "cell_type": "markdown",
   "metadata": {},
   "source": [
    "We define a function that performs a random or targeted attack to a network according to a given strategy (random, degree based, betweenness based, etc. )"
   ]
  },
  {
   "cell_type": "code",
   "execution_count": null,
   "metadata": {
    "collapsed": true
   },
   "outputs": [],
   "source": [
    "def net_attack(graph, ranked_nodes):\n",
    "    \n",
    "    fraction_removed=[]#here we store the tuples: (%removed nodes, size of gcc)\n",
    "    \n",
    "    graph1=graph.copy()\n",
    "    nnodes=len(ranked_nodes)\n",
    "    n=0    \n",
    "    \n",
    "    gcc=list(nx.connected_components(graph1))[0]\n",
    "    \n",
    "    gcc_size=float(len(gcc))/nnodes\n",
    "    \n",
    "    fraction_removed.append( (float(n)/nnodes, gcc_size) )\n",
    "    \n",
    "    while gcc_size>0.01:\n",
    "        \n",
    "        #we start from the end of the list!\n",
    "        graph1.remove_node(ranked_nodes.pop())\n",
    "\n",
    "        gcc=list(nx.connected_components(graph1))[0]\n",
    "        gcc_size=float(len(gcc))/nnodes\n",
    "        n+=1\n",
    "        fraction_removed.append( (float(n)/nnodes, gcc_size) )\n",
    "    \n",
    "    return fraction_removed"
   ]
  },
  {
   "cell_type": "markdown",
   "metadata": {},
   "source": [
    "#### Random attack"
   ]
  },
  {
   "cell_type": "code",
   "execution_count": null,
   "metadata": {
    "collapsed": true
   },
   "outputs": [],
   "source": [
    "airport_nodes=G.nodes()\n",
    "resilience_random=net_attack(G, airport_nodes)"
   ]
  },
  {
   "cell_type": "markdown",
   "metadata": {},
   "source": [
    "#### Betweenness based attack"
   ]
  },
  {
   "cell_type": "code",
   "execution_count": null,
   "metadata": {
    "collapsed": true
   },
   "outputs": [],
   "source": [
    "airport_nodes_betw=[]\n",
    "\n",
    "betw=nx.betweenness_centrality(G)\n",
    "for i in sorted(betw.iteritems(), key=itemgetter(1)):\n",
    "    airport_nodes_betw.append(i[0])\n",
    "\n",
    "\n",
    "resilience_betw=net_attack(G, airport_nodes_betw)"
   ]
  },
  {
   "cell_type": "markdown",
   "metadata": {},
   "source": [
    "Let's compare the results."
   ]
  },
  {
   "cell_type": "code",
   "execution_count": null,
   "metadata": {
    "collapsed": true
   },
   "outputs": [],
   "source": [
    "x=[k[0] for k in resilience_random]\n",
    "y=[k[1] for k in resilience_random]\n",
    "\n",
    "x1=[k[0] for k in resilience_deg]\n",
    "y1=[k[1] for k in resilience_deg]\n",
    "\n",
    "x2=[k[0] for k in resilience_betw]\n",
    "y2=[k[1] for k in resilience_betw]\n",
    "\n",
    "plt.plot(x,y, label='random attack')\n",
    "plt.plot(x1,y1, label='degree based')\n",
    "plt.plot(x2,y2, label='betw based')\n",
    "\n",
    "plt.xlabel('$f_{c}$', fontsize=18)\n",
    "plt.ylabel('$LCC$', fontsize=18)\n",
    "plt.xticks(fontsize=14)\n",
    "plt.yticks(fontsize=14)\n",
    "\n",
    "plt.legend(loc='upper right')"
   ]
  },
  {
   "cell_type": "markdown",
   "metadata": {},
   "source": [
    "#### Resilience of the Erdos-Renyi random network\n"
   ]
  },
  {
   "cell_type": "code",
   "execution_count": null,
   "metadata": {
    "collapsed": true
   },
   "outputs": [],
   "source": [
    "ER=nx.fast_gnp_random_graph(2000,0.012)"
   ]
  },
  {
   "cell_type": "code",
   "execution_count": null,
   "metadata": {
    "collapsed": true
   },
   "outputs": [],
   "source": [
    "ER_nodes=ER.nodes()\n",
    "\n",
    "ER_nodes_deg=[]\n",
    "for i in sorted(ER.degree().iteritems(), key=itemgetter(1)):\n",
    "    ER_nodes_deg.append(i[0])\n",
    "\n",
    "ER_nodes_betw=[]\n",
    "ER_betw=nx.betweenness_centrality(ER)\n",
    "for i in sorted(ER_betw.iteritems(), key=itemgetter(1)):\n",
    "    ER_nodes_betw.append(i[0])\n"
   ]
  },
  {
   "cell_type": "code",
   "execution_count": null,
   "metadata": {
    "collapsed": true
   },
   "outputs": [],
   "source": [
    "resilience_random=net_attack(ER, ER_nodes)\n",
    "resilience_deg=net_attack(ER, ER_nodes_deg)\n",
    "resilience_betw=net_attack(ER, ER_nodes_betw)"
   ]
  },
  {
   "cell_type": "code",
   "execution_count": null,
   "metadata": {
    "collapsed": true
   },
   "outputs": [],
   "source": [
    "x=[k[0] for k in resilience_random]\n",
    "y=[k[1] for k in resilience_random]\n",
    "\n",
    "x1=[k[0] for k in resilience_deg]\n",
    "y1=[k[1] for k in resilience_deg]\n",
    "\n",
    "x2=[k[0] for k in resilience_betw]\n",
    "y2=[k[1] for k in resilience_betw]\n",
    "\n",
    "plt.plot(x,y, label='random attack')\n",
    "plt.plot(x1,y1, label='degree based')\n",
    "plt.plot(x2,y2, label='betw based')\n",
    "\n",
    "plt.xlabel('$f_{c}$', fontsize=18)\n",
    "plt.ylabel('$LCC$', fontsize=18)\n",
    "plt.xticks(fontsize=14)\n",
    "plt.yticks(fontsize=14)\n",
    "\n",
    "plt.legend(loc='upper right')"
   ]
  },
  {
   "cell_type": "markdown",
   "metadata": {},
   "source": [
    "#### Resilience of the Barabasi-Albert random network\n"
   ]
  },
  {
   "cell_type": "code",
   "execution_count": null,
   "metadata": {
    "collapsed": true
   },
   "outputs": [],
   "source": []
  }
 ],
 "metadata": {
  "kernelspec": {
   "display_name": "Python 2",
   "language": "python",
   "name": "python2"
  },
  "language_info": {
   "codemirror_mode": {
    "name": "ipython",
    "version": 2
   },
   "file_extension": ".py",
   "mimetype": "text/x-python",
   "name": "python",
   "nbconvert_exporter": "python",
   "pygments_lexer": "ipython2",
   "version": "2.7.12"
  }
 },
 "nbformat": 4,
 "nbformat_minor": 1
}
