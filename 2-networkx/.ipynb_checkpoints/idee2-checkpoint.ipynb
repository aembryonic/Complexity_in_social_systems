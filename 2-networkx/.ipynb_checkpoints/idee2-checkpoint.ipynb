{
 "metadata": {
  "name": "",
  "signature": "sha256:8ab0a749683c5a372e210ec921ad88242c1d8df5ac313c260fcc10b3ea3d87dc"
 },
 "nbformat": 3,
 "nbformat_minor": 0,
 "worksheets": []
}