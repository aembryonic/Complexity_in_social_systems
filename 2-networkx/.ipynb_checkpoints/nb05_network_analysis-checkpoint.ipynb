{
 "cells": [
  {
   "cell_type": "markdown",
   "metadata": {},
   "source": [
    "<center>\n",
    "<hr>\n",
    "<h1>Complessità nei sistemi sociali</h1>\n",
    "<h2>Laurea Magistrale in Fisica Dei Sistemi Complessi</h2>\n",
    "<h2>A.A. 2016/17</h2>\n",
    "<h3>Dr. Daniela Paolotti, Dr. Michele Tizzoni</h3>\n",
    "<h3>Basic network analysis with NetworkX, assortativity, resilience to attacks</h3>\n",
    "<hr>\n",
    "</center>"
   ]
  },
  {
   "cell_type": "code",
   "execution_count": 2,
   "metadata": {},
   "outputs": [
    {
     "name": "stderr",
     "output_type": "stream",
     "text": [
      "//anaconda/lib/python2.7/site-packages/matplotlib/__init__.py:872: UserWarning: axes.color_cycle is deprecated and replaced with axes.prop_cycle; please use the latter.\n",
      "  warnings.warn(self.msg_depr % (key, alt_key))\n"
     ]
    }
   ],
   "source": [
    "import networkx as nx\n",
    "import seaborn as sns"
   ]
  },
  {
   "cell_type": "code",
   "execution_count": 3,
   "metadata": {},
   "outputs": [
    {
     "name": "stdout",
     "output_type": "stream",
     "text": [
      "Populating the interactive namespace from numpy and matplotlib\n"
     ]
    }
   ],
   "source": [
    "%pylab inline"
   ]
  },
  {
   "cell_type": "markdown",
   "metadata": {},
   "source": [
    "## Measure the connectivity and clustering of a graph"
   ]
  },
  {
   "cell_type": "code",
   "execution_count": 4,
   "metadata": {},
   "outputs": [],
   "source": [
    "G=nx.Graph()"
   ]
  },
  {
   "cell_type": "code",
   "execution_count": 5,
   "metadata": {
    "collapsed": true
   },
   "outputs": [],
   "source": [
    "#Download the network file 'ca-AstroPh' from SNAP@Stanford\n",
    "fh=open('./ca-AstroPh.txt','r')\n",
    "for line in fh.readlines():\n",
    "    s=line.strip().split()\n",
    "    if s[0]!='#':\n",
    "        origin=int(s[0])\n",
    "        dest=int(s[1])\n",
    "        G.add_edge(origin,dest)\n",
    "fh.close()"
   ]
  },
  {
   "cell_type": "code",
   "execution_count": 6,
   "metadata": {},
   "outputs": [
    {
     "name": "stdout",
     "output_type": "stream",
     "text": [
      "The graph has 18772 nodes\n",
      "and 198110 edges\n"
     ]
    }
   ],
   "source": [
    "print \"The graph has\", len(G), \"nodes\"\n",
    "print \"and\",len(G.edges()),\"edges\""
   ]
  },
  {
   "cell_type": "code",
   "execution_count": 7,
   "metadata": {},
   "outputs": [
    {
     "name": "stdout",
     "output_type": "stream",
     "text": [
      "Is the graph simply connected? False\n"
     ]
    }
   ],
   "source": [
    "print \"Is the graph simply connected?\", nx.is_connected(G)"
   ]
  },
  {
   "cell_type": "markdown",
   "metadata": {},
   "source": [
    "### Show the components of the graph"
   ]
  },
  {
   "cell_type": "code",
   "execution_count": 8,
   "metadata": {},
   "outputs": [
    {
     "name": "stdout",
     "output_type": "stream",
     "text": [
      "The graph has 290 connected components\n"
     ]
    }
   ],
   "source": [
    "print \"The graph has\", nx.number_connected_components(G),\"connected components\""
   ]
  },
  {
   "cell_type": "code",
   "execution_count": 9,
   "metadata": {
    "collapsed": true
   },
   "outputs": [
    {
     "name": "stdout",
     "output_type": "stream",
     "text": [
      "17903\n",
      "4\n",
      "2\n",
      "3\n",
      "2\n",
      "3\n",
      "3\n",
      "9\n",
      "4\n",
      "2\n",
      "3\n",
      "2\n",
      "4\n",
      "2\n",
      "2\n",
      "2\n",
      "5\n",
      "2\n",
      "2\n",
      "6\n",
      "3\n",
      "3\n",
      "8\n",
      "2\n",
      "2\n",
      "5\n",
      "3\n",
      "8\n",
      "5\n",
      "4\n",
      "2\n",
      "3\n",
      "3\n",
      "3\n",
      "3\n",
      "4\n",
      "2\n",
      "4\n",
      "2\n",
      "3\n",
      "5\n",
      "3\n",
      "4\n",
      "3\n",
      "3\n",
      "4\n",
      "2\n",
      "3\n",
      "3\n",
      "2\n",
      "18\n",
      "3\n",
      "2\n",
      "2\n",
      "3\n",
      "5\n",
      "2\n",
      "4\n",
      "3\n",
      "2\n",
      "3\n",
      "3\n",
      "3\n",
      "12\n",
      "7\n",
      "3\n",
      "2\n",
      "3\n",
      "3\n",
      "2\n",
      "3\n",
      "2\n",
      "5\n",
      "4\n",
      "3\n",
      "3\n",
      "2\n",
      "10\n",
      "3\n",
      "3\n",
      "2\n",
      "2\n",
      "4\n",
      "4\n",
      "2\n",
      "8\n",
      "2\n",
      "2\n",
      "2\n",
      "2\n",
      "4\n",
      "3\n",
      "5\n",
      "5\n",
      "5\n",
      "2\n",
      "3\n",
      "5\n",
      "4\n",
      "4\n",
      "3\n",
      "5\n",
      "4\n",
      "2\n",
      "2\n",
      "3\n",
      "2\n",
      "5\n",
      "2\n",
      "2\n",
      "3\n",
      "2\n",
      "3\n",
      "3\n",
      "3\n",
      "2\n",
      "3\n",
      "3\n",
      "4\n",
      "3\n",
      "2\n",
      "3\n",
      "2\n",
      "2\n",
      "2\n",
      "2\n",
      "3\n",
      "3\n",
      "2\n",
      "2\n",
      "3\n",
      "2\n",
      "2\n",
      "3\n",
      "4\n",
      "2\n",
      "2\n",
      "7\n",
      "3\n",
      "2\n",
      "3\n",
      "2\n",
      "3\n",
      "4\n",
      "4\n",
      "3\n",
      "2\n",
      "4\n",
      "4\n",
      "2\n",
      "2\n",
      "2\n",
      "2\n",
      "5\n",
      "2\n",
      "2\n",
      "4\n",
      "2\n",
      "3\n",
      "4\n",
      "2\n",
      "2\n",
      "3\n",
      "3\n",
      "2\n",
      "2\n",
      "2\n",
      "2\n",
      "2\n",
      "2\n",
      "3\n",
      "4\n",
      "3\n",
      "4\n",
      "2\n",
      "10\n",
      "4\n",
      "2\n",
      "2\n",
      "4\n",
      "2\n",
      "2\n",
      "3\n",
      "2\n",
      "2\n",
      "3\n",
      "3\n",
      "6\n",
      "3\n",
      "2\n",
      "2\n",
      "3\n",
      "3\n",
      "2\n",
      "7\n",
      "2\n",
      "2\n",
      "4\n",
      "3\n",
      "3\n",
      "2\n",
      "2\n",
      "2\n",
      "2\n",
      "3\n",
      "3\n",
      "2\n",
      "2\n",
      "2\n",
      "2\n",
      "4\n",
      "2\n",
      "3\n",
      "2\n",
      "2\n",
      "2\n",
      "4\n",
      "2\n",
      "2\n",
      "4\n",
      "3\n",
      "2\n",
      "2\n",
      "3\n",
      "3\n",
      "2\n",
      "2\n",
      "6\n",
      "3\n",
      "3\n",
      "2\n",
      "2\n",
      "2\n",
      "2\n",
      "2\n",
      "3\n",
      "4\n",
      "3\n",
      "2\n",
      "2\n",
      "2\n",
      "2\n",
      "2\n",
      "3\n",
      "2\n",
      "3\n",
      "2\n",
      "2\n",
      "3\n",
      "2\n",
      "2\n",
      "4\n",
      "2\n",
      "4\n",
      "2\n",
      "2\n",
      "3\n",
      "2\n",
      "5\n",
      "2\n",
      "2\n",
      "2\n",
      "2\n",
      "2\n",
      "2\n",
      "2\n",
      "2\n",
      "2\n",
      "2\n",
      "2\n",
      "3\n",
      "2\n",
      "2\n",
      "2\n",
      "2\n",
      "2\n",
      "3\n",
      "2\n",
      "2\n",
      "3\n",
      "2\n",
      "3\n",
      "2\n",
      "2\n",
      "2\n",
      "2\n",
      "4\n",
      "3\n",
      "3\n",
      "1\n"
     ]
    }
   ],
   "source": [
    "for k in nx.connected_components(G):\n",
    "    print len(k)"
   ]
  },
  {
   "cell_type": "markdown",
   "metadata": {},
   "source": [
    "### Extract the largest Connected Component as a subgraph"
   ]
  },
  {
   "cell_type": "code",
   "execution_count": 10,
   "metadata": {},
   "outputs": [
    {
     "data": {
      "text/plain": [
       "<generator object connected_component_subgraphs at 0x116226fa0>"
      ]
     },
     "execution_count": 10,
     "metadata": {},
     "output_type": "execute_result"
    }
   ],
   "source": [
    "nx.connected_component_subgraphs(G)"
   ]
  },
  {
   "cell_type": "code",
   "execution_count": 11,
   "metadata": {
    "collapsed": true
   },
   "outputs": [],
   "source": [
    "graphs = list(nx.connected_component_subgraphs(G))"
   ]
  },
  {
   "cell_type": "code",
   "execution_count": 12,
   "metadata": {},
   "outputs": [
    {
     "data": {
      "text/plain": [
       "[<networkx.classes.graph.Graph at 0x116243690>,\n",
       " <networkx.classes.graph.Graph at 0x116243850>,\n",
       " <networkx.classes.graph.Graph at 0x116243d90>,\n",
       " <networkx.classes.graph.Graph at 0x116243590>,\n",
       " <networkx.classes.graph.Graph at 0x1162437d0>,\n",
       " <networkx.classes.graph.Graph at 0x116243c10>,\n",
       " <networkx.classes.graph.Graph at 0x116243c90>,\n",
       " <networkx.classes.graph.Graph at 0x116243e90>,\n",
       " <networkx.classes.graph.Graph at 0x116243c50>,\n",
       " <networkx.classes.graph.Graph at 0x1162438d0>,\n",
       " <networkx.classes.graph.Graph at 0x116243950>,\n",
       " <networkx.classes.graph.Graph at 0x116243990>,\n",
       " <networkx.classes.graph.Graph at 0x1162439d0>,\n",
       " <networkx.classes.graph.Graph at 0x116243a10>,\n",
       " <networkx.classes.graph.Graph at 0x116243fd0>,\n",
       " <networkx.classes.graph.Graph at 0x116243510>,\n",
       " <networkx.classes.graph.Graph at 0x116243490>,\n",
       " <networkx.classes.graph.Graph at 0x116243450>,\n",
       " <networkx.classes.graph.Graph at 0x1051925d0>,\n",
       " <networkx.classes.graph.Graph at 0x1059084d0>,\n",
       " <networkx.classes.graph.Graph at 0x105908490>,\n",
       " <networkx.classes.graph.Graph at 0x116237a50>,\n",
       " <networkx.classes.graph.Graph at 0x116237ad0>,\n",
       " <networkx.classes.graph.Graph at 0x116237c90>,\n",
       " <networkx.classes.graph.Graph at 0x116237c10>,\n",
       " <networkx.classes.graph.Graph at 0x116237c50>,\n",
       " <networkx.classes.graph.Graph at 0x116237bd0>,\n",
       " <networkx.classes.graph.Graph at 0x116237b90>,\n",
       " <networkx.classes.graph.Graph at 0x116237b50>,\n",
       " <networkx.classes.graph.Graph at 0x116237b10>,\n",
       " <networkx.classes.graph.Graph at 0x116222d50>,\n",
       " <networkx.classes.graph.Graph at 0x116222a90>,\n",
       " <networkx.classes.graph.Graph at 0x116222ad0>,\n",
       " <networkx.classes.graph.Graph at 0x116222e90>,\n",
       " <networkx.classes.graph.Graph at 0x116222b50>,\n",
       " <networkx.classes.graph.Graph at 0x116222c90>,\n",
       " <networkx.classes.graph.Graph at 0x116222c50>,\n",
       " <networkx.classes.graph.Graph at 0x116222c10>,\n",
       " <networkx.classes.graph.Graph at 0x116222bd0>,\n",
       " <networkx.classes.graph.Graph at 0x116222e50>,\n",
       " <networkx.classes.graph.Graph at 0x116222ed0>,\n",
       " <networkx.classes.graph.Graph at 0x116222f50>,\n",
       " <networkx.classes.graph.Graph at 0x116222cd0>,\n",
       " <networkx.classes.graph.Graph at 0x116222d10>,\n",
       " <networkx.classes.graph.Graph at 0x116222dd0>,\n",
       " <networkx.classes.graph.Graph at 0x116222b10>,\n",
       " <networkx.classes.graph.Graph at 0x116222e10>,\n",
       " <networkx.classes.graph.Graph at 0x116222b90>,\n",
       " <networkx.classes.graph.Graph at 0x116222a10>,\n",
       " <networkx.classes.graph.Graph at 0x116222f10>,\n",
       " <networkx.classes.graph.Graph at 0x116363050>,\n",
       " <networkx.classes.graph.Graph at 0x116363090>,\n",
       " <networkx.classes.graph.Graph at 0x1163630d0>,\n",
       " <networkx.classes.graph.Graph at 0x116363110>,\n",
       " <networkx.classes.graph.Graph at 0x116363150>,\n",
       " <networkx.classes.graph.Graph at 0x116363190>,\n",
       " <networkx.classes.graph.Graph at 0x1163631d0>,\n",
       " <networkx.classes.graph.Graph at 0x116363210>,\n",
       " <networkx.classes.graph.Graph at 0x116363250>,\n",
       " <networkx.classes.graph.Graph at 0x116363290>,\n",
       " <networkx.classes.graph.Graph at 0x1163632d0>,\n",
       " <networkx.classes.graph.Graph at 0x116363310>,\n",
       " <networkx.classes.graph.Graph at 0x116363350>,\n",
       " <networkx.classes.graph.Graph at 0x116363390>,\n",
       " <networkx.classes.graph.Graph at 0x1163633d0>,\n",
       " <networkx.classes.graph.Graph at 0x116363410>,\n",
       " <networkx.classes.graph.Graph at 0x116363450>,\n",
       " <networkx.classes.graph.Graph at 0x116363490>,\n",
       " <networkx.classes.graph.Graph at 0x1163634d0>,\n",
       " <networkx.classes.graph.Graph at 0x116363510>,\n",
       " <networkx.classes.graph.Graph at 0x116363550>,\n",
       " <networkx.classes.graph.Graph at 0x116363590>,\n",
       " <networkx.classes.graph.Graph at 0x1163635d0>,\n",
       " <networkx.classes.graph.Graph at 0x116363610>,\n",
       " <networkx.classes.graph.Graph at 0x116363650>,\n",
       " <networkx.classes.graph.Graph at 0x116363690>,\n",
       " <networkx.classes.graph.Graph at 0x1163636d0>,\n",
       " <networkx.classes.graph.Graph at 0x116363710>,\n",
       " <networkx.classes.graph.Graph at 0x116363750>,\n",
       " <networkx.classes.graph.Graph at 0x116363790>,\n",
       " <networkx.classes.graph.Graph at 0x1163637d0>,\n",
       " <networkx.classes.graph.Graph at 0x116363810>,\n",
       " <networkx.classes.graph.Graph at 0x116363850>,\n",
       " <networkx.classes.graph.Graph at 0x116363890>,\n",
       " <networkx.classes.graph.Graph at 0x1163638d0>,\n",
       " <networkx.classes.graph.Graph at 0x116363910>,\n",
       " <networkx.classes.graph.Graph at 0x116363950>,\n",
       " <networkx.classes.graph.Graph at 0x116363990>,\n",
       " <networkx.classes.graph.Graph at 0x1163639d0>,\n",
       " <networkx.classes.graph.Graph at 0x116363a10>,\n",
       " <networkx.classes.graph.Graph at 0x116363a50>,\n",
       " <networkx.classes.graph.Graph at 0x116363a90>,\n",
       " <networkx.classes.graph.Graph at 0x116363ad0>,\n",
       " <networkx.classes.graph.Graph at 0x116363b10>,\n",
       " <networkx.classes.graph.Graph at 0x116363b50>,\n",
       " <networkx.classes.graph.Graph at 0x116363b90>,\n",
       " <networkx.classes.graph.Graph at 0x116363bd0>,\n",
       " <networkx.classes.graph.Graph at 0x116363c10>,\n",
       " <networkx.classes.graph.Graph at 0x116363c50>,\n",
       " <networkx.classes.graph.Graph at 0x116363c90>,\n",
       " <networkx.classes.graph.Graph at 0x116363cd0>,\n",
       " <networkx.classes.graph.Graph at 0x116363d10>,\n",
       " <networkx.classes.graph.Graph at 0x116363d50>,\n",
       " <networkx.classes.graph.Graph at 0x116363d90>,\n",
       " <networkx.classes.graph.Graph at 0x116363dd0>,\n",
       " <networkx.classes.graph.Graph at 0x116363e10>,\n",
       " <networkx.classes.graph.Graph at 0x116363e50>,\n",
       " <networkx.classes.graph.Graph at 0x116363e90>,\n",
       " <networkx.classes.graph.Graph at 0x116363ed0>,\n",
       " <networkx.classes.graph.Graph at 0x116363f10>,\n",
       " <networkx.classes.graph.Graph at 0x116363f50>,\n",
       " <networkx.classes.graph.Graph at 0x116363f90>,\n",
       " <networkx.classes.graph.Graph at 0x116363fd0>,\n",
       " <networkx.classes.graph.Graph at 0x116b88050>,\n",
       " <networkx.classes.graph.Graph at 0x116b88090>,\n",
       " <networkx.classes.graph.Graph at 0x116b880d0>,\n",
       " <networkx.classes.graph.Graph at 0x116b88110>,\n",
       " <networkx.classes.graph.Graph at 0x116b88150>,\n",
       " <networkx.classes.graph.Graph at 0x116b88190>,\n",
       " <networkx.classes.graph.Graph at 0x116b881d0>,\n",
       " <networkx.classes.graph.Graph at 0x116b88210>,\n",
       " <networkx.classes.graph.Graph at 0x116b88250>,\n",
       " <networkx.classes.graph.Graph at 0x116b88290>,\n",
       " <networkx.classes.graph.Graph at 0x116b882d0>,\n",
       " <networkx.classes.graph.Graph at 0x116b88310>,\n",
       " <networkx.classes.graph.Graph at 0x116b88350>,\n",
       " <networkx.classes.graph.Graph at 0x116b88390>,\n",
       " <networkx.classes.graph.Graph at 0x116b883d0>,\n",
       " <networkx.classes.graph.Graph at 0x116b88410>,\n",
       " <networkx.classes.graph.Graph at 0x116b88450>,\n",
       " <networkx.classes.graph.Graph at 0x116b88490>,\n",
       " <networkx.classes.graph.Graph at 0x116b884d0>,\n",
       " <networkx.classes.graph.Graph at 0x116b88510>,\n",
       " <networkx.classes.graph.Graph at 0x116b88550>,\n",
       " <networkx.classes.graph.Graph at 0x116b88590>,\n",
       " <networkx.classes.graph.Graph at 0x116b885d0>,\n",
       " <networkx.classes.graph.Graph at 0x116b88610>,\n",
       " <networkx.classes.graph.Graph at 0x116b88650>,\n",
       " <networkx.classes.graph.Graph at 0x116b88690>,\n",
       " <networkx.classes.graph.Graph at 0x116b886d0>,\n",
       " <networkx.classes.graph.Graph at 0x116b88710>,\n",
       " <networkx.classes.graph.Graph at 0x116b88750>,\n",
       " <networkx.classes.graph.Graph at 0x116b88790>,\n",
       " <networkx.classes.graph.Graph at 0x116b887d0>,\n",
       " <networkx.classes.graph.Graph at 0x116b88810>,\n",
       " <networkx.classes.graph.Graph at 0x116b88850>,\n",
       " <networkx.classes.graph.Graph at 0x116b88890>,\n",
       " <networkx.classes.graph.Graph at 0x116b888d0>,\n",
       " <networkx.classes.graph.Graph at 0x116b88910>,\n",
       " <networkx.classes.graph.Graph at 0x116b88950>,\n",
       " <networkx.classes.graph.Graph at 0x116b88990>,\n",
       " <networkx.classes.graph.Graph at 0x116b889d0>,\n",
       " <networkx.classes.graph.Graph at 0x116b88a10>,\n",
       " <networkx.classes.graph.Graph at 0x116b88a50>,\n",
       " <networkx.classes.graph.Graph at 0x116b88a90>,\n",
       " <networkx.classes.graph.Graph at 0x116b88ad0>,\n",
       " <networkx.classes.graph.Graph at 0x116b88b10>,\n",
       " <networkx.classes.graph.Graph at 0x116b88b50>,\n",
       " <networkx.classes.graph.Graph at 0x116b88b90>,\n",
       " <networkx.classes.graph.Graph at 0x116b88bd0>,\n",
       " <networkx.classes.graph.Graph at 0x116b88c10>,\n",
       " <networkx.classes.graph.Graph at 0x116b88c50>,\n",
       " <networkx.classes.graph.Graph at 0x116b88c90>,\n",
       " <networkx.classes.graph.Graph at 0x116b88cd0>,\n",
       " <networkx.classes.graph.Graph at 0x116b88d10>,\n",
       " <networkx.classes.graph.Graph at 0x116b88d50>,\n",
       " <networkx.classes.graph.Graph at 0x116b88d90>,\n",
       " <networkx.classes.graph.Graph at 0x116b88dd0>,\n",
       " <networkx.classes.graph.Graph at 0x116b88e10>,\n",
       " <networkx.classes.graph.Graph at 0x116b88e50>,\n",
       " <networkx.classes.graph.Graph at 0x116b88e90>,\n",
       " <networkx.classes.graph.Graph at 0x116b88ed0>,\n",
       " <networkx.classes.graph.Graph at 0x116b88f10>,\n",
       " <networkx.classes.graph.Graph at 0x116b88f50>,\n",
       " <networkx.classes.graph.Graph at 0x116b88f90>,\n",
       " <networkx.classes.graph.Graph at 0x116b88fd0>,\n",
       " <networkx.classes.graph.Graph at 0x1163bc050>,\n",
       " <networkx.classes.graph.Graph at 0x1163bc090>,\n",
       " <networkx.classes.graph.Graph at 0x1163bc0d0>,\n",
       " <networkx.classes.graph.Graph at 0x1163bc110>,\n",
       " <networkx.classes.graph.Graph at 0x1163bc150>,\n",
       " <networkx.classes.graph.Graph at 0x1163bc190>,\n",
       " <networkx.classes.graph.Graph at 0x1163bc1d0>,\n",
       " <networkx.classes.graph.Graph at 0x1163bc210>,\n",
       " <networkx.classes.graph.Graph at 0x1163bc250>,\n",
       " <networkx.classes.graph.Graph at 0x1163bc290>,\n",
       " <networkx.classes.graph.Graph at 0x1163bc2d0>,\n",
       " <networkx.classes.graph.Graph at 0x1163bc310>,\n",
       " <networkx.classes.graph.Graph at 0x1163bc350>,\n",
       " <networkx.classes.graph.Graph at 0x1163bc390>,\n",
       " <networkx.classes.graph.Graph at 0x1163bc3d0>,\n",
       " <networkx.classes.graph.Graph at 0x1163bc410>,\n",
       " <networkx.classes.graph.Graph at 0x1163bc450>,\n",
       " <networkx.classes.graph.Graph at 0x1163bc490>,\n",
       " <networkx.classes.graph.Graph at 0x1163bc4d0>,\n",
       " <networkx.classes.graph.Graph at 0x1163bc510>,\n",
       " <networkx.classes.graph.Graph at 0x1163bc550>,\n",
       " <networkx.classes.graph.Graph at 0x1163bc590>,\n",
       " <networkx.classes.graph.Graph at 0x1163bc5d0>,\n",
       " <networkx.classes.graph.Graph at 0x1163bc610>,\n",
       " <networkx.classes.graph.Graph at 0x1163bc650>,\n",
       " <networkx.classes.graph.Graph at 0x1163bc690>,\n",
       " <networkx.classes.graph.Graph at 0x1163bc6d0>,\n",
       " <networkx.classes.graph.Graph at 0x1163bc710>,\n",
       " <networkx.classes.graph.Graph at 0x1163bc750>,\n",
       " <networkx.classes.graph.Graph at 0x1163bc790>,\n",
       " <networkx.classes.graph.Graph at 0x1163bc7d0>,\n",
       " <networkx.classes.graph.Graph at 0x1163bc810>,\n",
       " <networkx.classes.graph.Graph at 0x1163bc850>,\n",
       " <networkx.classes.graph.Graph at 0x1163bc890>,\n",
       " <networkx.classes.graph.Graph at 0x1163bc8d0>,\n",
       " <networkx.classes.graph.Graph at 0x1163bc910>,\n",
       " <networkx.classes.graph.Graph at 0x1163bc950>,\n",
       " <networkx.classes.graph.Graph at 0x1163bc990>,\n",
       " <networkx.classes.graph.Graph at 0x1163bc9d0>,\n",
       " <networkx.classes.graph.Graph at 0x1163bca10>,\n",
       " <networkx.classes.graph.Graph at 0x1163bca50>,\n",
       " <networkx.classes.graph.Graph at 0x1163bca90>,\n",
       " <networkx.classes.graph.Graph at 0x1163bcad0>,\n",
       " <networkx.classes.graph.Graph at 0x1163bcb10>,\n",
       " <networkx.classes.graph.Graph at 0x1163bcb50>,\n",
       " <networkx.classes.graph.Graph at 0x1163bcb90>,\n",
       " <networkx.classes.graph.Graph at 0x1163bcbd0>,\n",
       " <networkx.classes.graph.Graph at 0x1163bcc10>,\n",
       " <networkx.classes.graph.Graph at 0x1163bcc50>,\n",
       " <networkx.classes.graph.Graph at 0x1163bcc90>,\n",
       " <networkx.classes.graph.Graph at 0x1163bccd0>,\n",
       " <networkx.classes.graph.Graph at 0x1163bcd10>,\n",
       " <networkx.classes.graph.Graph at 0x1163bcd50>,\n",
       " <networkx.classes.graph.Graph at 0x1163bcd90>,\n",
       " <networkx.classes.graph.Graph at 0x1163bcdd0>,\n",
       " <networkx.classes.graph.Graph at 0x1163bce10>,\n",
       " <networkx.classes.graph.Graph at 0x1163bce50>,\n",
       " <networkx.classes.graph.Graph at 0x1163bce90>,\n",
       " <networkx.classes.graph.Graph at 0x1163bced0>,\n",
       " <networkx.classes.graph.Graph at 0x1163bcf10>,\n",
       " <networkx.classes.graph.Graph at 0x1163bcf50>,\n",
       " <networkx.classes.graph.Graph at 0x1163bcf90>,\n",
       " <networkx.classes.graph.Graph at 0x1163bcfd0>,\n",
       " <networkx.classes.graph.Graph at 0x1166a2050>,\n",
       " <networkx.classes.graph.Graph at 0x1166a2090>,\n",
       " <networkx.classes.graph.Graph at 0x1166a20d0>,\n",
       " <networkx.classes.graph.Graph at 0x1166a2110>,\n",
       " <networkx.classes.graph.Graph at 0x1166a2150>,\n",
       " <networkx.classes.graph.Graph at 0x1166a2190>,\n",
       " <networkx.classes.graph.Graph at 0x1166a21d0>,\n",
       " <networkx.classes.graph.Graph at 0x1166a2210>,\n",
       " <networkx.classes.graph.Graph at 0x1166a2250>,\n",
       " <networkx.classes.graph.Graph at 0x1166a2290>,\n",
       " <networkx.classes.graph.Graph at 0x1166a22d0>,\n",
       " <networkx.classes.graph.Graph at 0x1166a2310>,\n",
       " <networkx.classes.graph.Graph at 0x1166a2350>,\n",
       " <networkx.classes.graph.Graph at 0x1166a2390>,\n",
       " <networkx.classes.graph.Graph at 0x1166a23d0>,\n",
       " <networkx.classes.graph.Graph at 0x1166a2410>,\n",
       " <networkx.classes.graph.Graph at 0x1166a2450>,\n",
       " <networkx.classes.graph.Graph at 0x1166a2490>,\n",
       " <networkx.classes.graph.Graph at 0x1166a24d0>,\n",
       " <networkx.classes.graph.Graph at 0x1166a2510>,\n",
       " <networkx.classes.graph.Graph at 0x1166a2550>,\n",
       " <networkx.classes.graph.Graph at 0x1166a2590>,\n",
       " <networkx.classes.graph.Graph at 0x1166a25d0>,\n",
       " <networkx.classes.graph.Graph at 0x1166a2610>,\n",
       " <networkx.classes.graph.Graph at 0x1166a2650>,\n",
       " <networkx.classes.graph.Graph at 0x1166a2690>,\n",
       " <networkx.classes.graph.Graph at 0x1166a26d0>,\n",
       " <networkx.classes.graph.Graph at 0x1166a2710>,\n",
       " <networkx.classes.graph.Graph at 0x1166a2750>,\n",
       " <networkx.classes.graph.Graph at 0x1166a2790>,\n",
       " <networkx.classes.graph.Graph at 0x1166a27d0>,\n",
       " <networkx.classes.graph.Graph at 0x1166a2810>,\n",
       " <networkx.classes.graph.Graph at 0x1166a2850>,\n",
       " <networkx.classes.graph.Graph at 0x1166a2890>,\n",
       " <networkx.classes.graph.Graph at 0x1166a28d0>,\n",
       " <networkx.classes.graph.Graph at 0x1166a2910>,\n",
       " <networkx.classes.graph.Graph at 0x1166a2950>,\n",
       " <networkx.classes.graph.Graph at 0x1166a2990>,\n",
       " <networkx.classes.graph.Graph at 0x1166a29d0>,\n",
       " <networkx.classes.graph.Graph at 0x1166a2a10>,\n",
       " <networkx.classes.graph.Graph at 0x1166a2a50>,\n",
       " <networkx.classes.graph.Graph at 0x1166a2a90>,\n",
       " <networkx.classes.graph.Graph at 0x1166a2ad0>,\n",
       " <networkx.classes.graph.Graph at 0x1166a2b10>,\n",
       " <networkx.classes.graph.Graph at 0x1166a2b50>,\n",
       " <networkx.classes.graph.Graph at 0x1166a2b90>,\n",
       " <networkx.classes.graph.Graph at 0x1166a2bd0>,\n",
       " <networkx.classes.graph.Graph at 0x1166a2c10>,\n",
       " <networkx.classes.graph.Graph at 0x1166a2c50>,\n",
       " <networkx.classes.graph.Graph at 0x1166a2c90>,\n",
       " <networkx.classes.graph.Graph at 0x1166a2cd0>]"
      ]
     },
     "execution_count": 12,
     "metadata": {},
     "output_type": "execute_result"
    }
   ],
   "source": [
    "graphs"
   ]
  },
  {
   "cell_type": "code",
   "execution_count": 13,
   "metadata": {
    "collapsed": true
   },
   "outputs": [],
   "source": [
    "H=graphs[0]"
   ]
  },
  {
   "cell_type": "code",
   "execution_count": 14,
   "metadata": {},
   "outputs": [
    {
     "name": "stdout",
     "output_type": "stream",
     "text": [
      "869\n"
     ]
    }
   ],
   "source": [
    "print len(G)-len(H)"
   ]
  },
  {
   "cell_type": "code",
   "execution_count": 15,
   "metadata": {},
   "outputs": [
    {
     "name": "stdout",
     "output_type": "stream",
     "text": [
      "Check that the graph is now connected\n"
     ]
    },
    {
     "data": {
      "text/plain": [
       "1"
      ]
     },
     "execution_count": 15,
     "metadata": {},
     "output_type": "execute_result"
    }
   ],
   "source": [
    "print \"Check that the graph is now connected\"\n",
    "nx.number_connected_components(H)"
   ]
  },
  {
   "cell_type": "markdown",
   "metadata": {},
   "source": [
    "## Global clustering coefficient"
   ]
  },
  {
   "cell_type": "markdown",
   "metadata": {},
   "source": [
    "The global clustering coefficient measures the number of triangles in the network. "
   ]
  },
  {
   "cell_type": "code",
   "execution_count": 17,
   "metadata": {},
   "outputs": [
    {
     "data": {
      "text/plain": [
       "{3: 625,\n",
       " 65540: 12,\n",
       " 65541: 10,\n",
       " 32776: 60,\n",
       " 32777: 21,\n",
       " 65546: 119,\n",
       " 98315: 365,\n",
       " 13: 16,\n",
       " 98318: 693,\n",
       " 15: 0,\n",
       " 16: 1,\n",
       " 17: 0,\n",
       " 131091: 2837,\n",
       " 98325: 92,\n",
       " 98326: 6,\n",
       " 32791: 580,\n",
       " 4: 1,\n",
       " 26: 12,\n",
       " 27: 0,\n",
       " 32796: 7,\n",
       " 30: 2357,\n",
       " 32799: 3,\n",
       " 65568: 10,\n",
       " 65569: 45,\n",
       " 65570: 3,\n",
       " 65571: 21,\n",
       " 98340: 9,\n",
       " 98343: 0,\n",
       " 98345: 317,\n",
       " 98346: 153,\n",
       " 43: 231,\n",
       " 98348: 3,\n",
       " 98349: 55,\n",
       " 131121: 2836,\n",
       " 131122: 3,\n",
       " 131123: 3,\n",
       " 98356: 3,\n",
       " 98358: 5,\n",
       " 131127: 6,\n",
       " 57: 114,\n",
       " 65595: 489,\n",
       " 131133: 1779,\n",
       " 65599: 28,\n",
       " 25098: 104,\n",
       " 32840: 469,\n",
       " 73: 3,\n",
       " 65610: 54,\n",
       " 27319: 28,\n",
       " 65613: 335,\n",
       " 80: 2,\n",
       " 81: 0,\n",
       " 21859: 808,\n",
       " 65620: 21,\n",
       " 86: 157,\n",
       " 125625: 23,\n",
       " 88: 352,\n",
       " 65627: 28,\n",
       " 65628: 0,\n",
       " 65629: 406,\n",
       " 131167: 616,\n",
       " 97: 0,\n",
       " 65637: 32,\n",
       " 65638: 55,\n",
       " 65642: 1933,\n",
       " 65643: 45,\n",
       " 131180: 97,\n",
       " 98417: 325,\n",
       " 114: 1545,\n",
       " 32787: 130,\n",
       " 117: 915,\n",
       " 103785: 15,\n",
       " 120: 6,\n",
       " 65657: 19,\n",
       " 124: 3,\n",
       " 63882: 132,\n",
       " 98431: 21,\n",
       " 98432: 28,\n",
       " 131204: 1877,\n",
       " 98439: 348,\n",
       " 131209: 980,\n",
       " 131211: 3,\n",
       " 65676: 874,\n",
       " 131215: 2,\n",
       " 98449: 72,\n",
       " 120029: 63,\n",
       " 109251: 43,\n",
       " 131221: 2488,\n",
       " 131222: 3,\n",
       " 98456: 29,\n",
       " 24442: 1362,\n",
       " 155: 74,\n",
       " 157: 19,\n",
       " 98463: 12,\n",
       " 131234: 940,\n",
       " 164: 506,\n",
       " 131237: 11,\n",
       " 98471: 61,\n",
       " 65564: 334,\n",
       " 172: 23,\n",
       " 98477: 14,\n",
       " 65713: 2256,\n",
       " 178: 214,\n",
       " 179: 0,\n",
       " 65566: 45,\n",
       " 65718: 111,\n",
       " 65719: 28,\n",
       " 184: 11,\n",
       " 65723: 41,\n",
       " 65724: 3,\n",
       " 189: 42,\n",
       " 131263: 72,\n",
       " 131266: 439,\n",
       " 131272: 198,\n",
       " 131273: 6,\n",
       " 98506: 491,\n",
       " 87415: 33,\n",
       " 131279: 338,\n",
       " 98512: 10,\n",
       " 131281: 29,\n",
       " 35: 3,\n",
       " 65751: 107,\n",
       " 60579: 1611,\n",
       " 65753: 380,\n",
       " 131292: 448,\n",
       " 98529: 262,\n",
       " 65763: 53,\n",
       " 98532: 236,\n",
       " 229: 972,\n",
       " 131302: 14,\n",
       " 231: 0,\n",
       " 98536: 4,\n",
       " 21884: 0,\n",
       " 53473: 1613,\n",
       " 98540: 19,\n",
       " 131309: 42,\n",
       " 98545: 378,\n",
       " 242: 3,\n",
       " 131315: 856,\n",
       " 87422: 3,\n",
       " 41: 11,\n",
       " 131320: 489,\n",
       " 27348: 488,\n",
       " 131322: 6,\n",
       " 131323: 1,\n",
       " 131324: 15,\n",
       " 131326: 3,\n",
       " 27349: 15,\n",
       " 131329: 107,\n",
       " 65794: 20,\n",
       " 65795: 10,\n",
       " 65796: 6,\n",
       " 43734: 1,\n",
       " 65798: 6,\n",
       " 65799: 231,\n",
       " 65800: 3,\n",
       " 65801: 666,\n",
       " 98571: 956,\n",
       " 131342: 9,\n",
       " 131343: 0,\n",
       " 33040: 2759,\n",
       " 76504: 1679,\n",
       " 33042: 8,\n",
       " 33834: 1,\n",
       " 276: 54,\n",
       " 277: 0,\n",
       " 278: 36,\n",
       " 32743: 47,\n",
       " 131352: 67,\n",
       " 65817: 11,\n",
       " 98586: 451,\n",
       " 283: 21,\n",
       " 284: 3,\n",
       " 33053: 2115,\n",
       " 98590: 136,\n",
       " 131361: 50,\n",
       " 291: 196,\n",
       " 293: 1035,\n",
       " 294: 3,\n",
       " 295: 66,\n",
       " 296: 45,\n",
       " 297: 1,\n",
       " 131370: 9,\n",
       " 131371: 1,\n",
       " 33068: 210,\n",
       " 131373: 6,\n",
       " 65838: 11,\n",
       " 303: 0,\n",
       " 304: 136,\n",
       " 65841: 10,\n",
       " 43742: 5,\n",
       " 310: 10,\n",
       " 90577: 151,\n",
       " 131385: 221,\n",
       " 43743: 28,\n",
       " 98621: 822,\n",
       " 131391: 1898,\n",
       " 320: 6,\n",
       " 10976: 4324,\n",
       " 45838: 177,\n",
       " 131396: 277,\n",
       " 131126: 11,\n",
       " 131398: 21,\n",
       " 33095: 122,\n",
       " 131400: 28,\n",
       " 38284: 31,\n",
       " 131402: 3,\n",
       " 98635: 5,\n",
       " 98636: 66,\n",
       " 333: 18,\n",
       " 334: 6,\n",
       " 335: 0,\n",
       " 131409: 567,\n",
       " 131410: 0,\n",
       " 98643: 12,\n",
       " 33108: 109,\n",
       " 98645: 1,\n",
       " 131414: 0,\n",
       " 98647: 168,\n",
       " 346: 21,\n",
       " 98651: 1,\n",
       " 349: 122,\n",
       " 98654: 4,\n",
       " 352: 48,\n",
       " 353: 36,\n",
       " 357: 172,\n",
       " 33126: 151,\n",
       " 65895: 22,\n",
       " 33128: 3,\n",
       " 33131: 0,\n",
       " 33132: 3,\n",
       " 65597: 1,\n",
       " 33139: 1389,\n",
       " 33141: 14,\n",
       " 131451: 348,\n",
       " 129857: 0,\n",
       " 384: 284,\n",
       " 385: 66,\n",
       " 386: 1485,\n",
       " 65927: 391,\n",
       " 65928: 1,\n",
       " 98698: 427,\n",
       " 38295: 28,\n",
       " 131468: 127,\n",
       " 131469: 10,\n",
       " 131470: 6,\n",
       " 131471: 66,\n",
       " 131472: 1,\n",
       " 65937: 184,\n",
       " 65938: 190,\n",
       " 65939: 120,\n",
       " 53238: 6,\n",
       " 98709: 5,\n",
       " 54681: 3936,\n",
       " 98712: 32,\n",
       " 98714: 12,\n",
       " 411: 40,\n",
       " 33181: 238,\n",
       " 98721: 4,\n",
       " 418: 27,\n",
       " 131491: 83,\n",
       " 420: 299,\n",
       " 33189: 104,\n",
       " 33190: 1,\n",
       " 423: 6,\n",
       " 424: 3,\n",
       " 425: 3,\n",
       " 426: 6,\n",
       " 427: 3,\n",
       " 98732: 15,\n",
       " 98735: 10,\n",
       " 98736: 1,\n",
       " 33202: 57,\n",
       " 33203: 0,\n",
       " 64391: 210,\n",
       " 33205: 3,\n",
       " 65977: 188,\n",
       " 65978: 15,\n",
       " 65980: 6,\n",
       " 65982: 62,\n",
       " 131519: 77,\n",
       " 65984: 21,\n",
       " 65985: 91,\n",
       " 33218: 1,\n",
       " 131523: 15,\n",
       " 98756: 23,\n",
       " 65989: 256,\n",
       " 54559: 136,\n",
       " 131527: 6,\n",
       " 33224: 6,\n",
       " 98761: 54,\n",
       " 33226: 1,\n",
       " 461: 2019,\n",
       " 131534: 13,\n",
       " 463: 861,\n",
       " 131536: 6,\n",
       " 465: 738,\n",
       " 98770: 40,\n",
       " 98771: 120,\n",
       " 98772: 21,\n",
       " 131541: 62,\n",
       " 66006: 540,\n",
       " 98776: 31,\n",
       " 98777: 21,\n",
       " 66010: 169,\n",
       " 98780: 22,\n",
       " 71077: 15,\n",
       " 66018: 226,\n",
       " 126587: 18,\n",
       " 66022: 8,\n",
       " 66023: 21,\n",
       " 128011: 10,\n",
       " 492: 418,\n",
       " 131565: 396,\n",
       " 494: 826,\n",
       " 496: 7,\n",
       " 66033: 5,\n",
       " 498: 0,\n",
       " 66036: 1078,\n",
       " 501: 0,\n",
       " 66039: 0,\n",
       " 66040: 21,\n",
       " 84: 4,\n",
       " 506: 2,\n",
       " 507: 6,\n",
       " 508: 78,\n",
       " 51196: 46,\n",
       " 131587: 23,\n",
       " 131588: 153,\n",
       " 517: 44,\n",
       " 518: 21,\n",
       " 131591: 1,\n",
       " 131592: 820,\n",
       " 131593: 66,\n",
       " 131594: 6,\n",
       " 66059: 1,\n",
       " 131596: 3,\n",
       " 66061: 0,\n",
       " 38317: 230,\n",
       " 529: 1426,\n",
       " 530: 10,\n",
       " 58924: 81,\n",
       " 33302: 369,\n",
       " 535: 1556,\n",
       " 64158: 28,\n",
       " 60164: 37,\n",
       " 66075: 9,\n",
       " 127680: 198,\n",
       " 49242: 1035,\n",
       " 542: 364,\n",
       " 66079: 4,\n",
       " 66082: 99,\n",
       " 98853: 111,\n",
       " 66086: 7,\n",
       " 38321: 24,\n",
       " 555: 440,\n",
       " 560: 3,\n",
       " 98865: 82,\n",
       " 66098: 15,\n",
       " 38323: 0,\n",
       " 66100: 17,\n",
       " 566: 11,\n",
       " 131639: 55,\n",
       " 568: 1,\n",
       " 569: 231,\n",
       " 95: 5,\n",
       " 572: 15,\n",
       " 573: 91,\n",
       " 131647: 133,\n",
       " 131649: 6,\n",
       " 131650: 3,\n",
       " 131651: 1,\n",
       " 131652: 0,\n",
       " 131654: 158,\n",
       " 33351: 1806,\n",
       " 98896: 800,\n",
       " 33362: 971,\n",
       " 82019: 216,\n",
       " 33364: 1128,\n",
       " 27406: 167,\n",
       " 598: 370,\n",
       " 599: 253,\n",
       " 602: 0,\n",
       " 603: 55,\n",
       " 604: 3,\n",
       " 65253: 3,\n",
       " 33380: 12,\n",
       " 102: 11,\n",
       " 63306: 6,\n",
       " 66157: 606,\n",
       " 98926: 71,\n",
       " 623: 39,\n",
       " 66160: 3,\n",
       " 98933: 477,\n",
       " 131704: 1718,\n",
       " 33401: 3,\n",
       " 33402: 91,\n",
       " 635: 28,\n",
       " 98940: 31,\n",
       " 98941: 136,\n",
       " 98944: 8,\n",
       " 131713: 24,\n",
       " 642: 153,\n",
       " 98947: 0,\n",
       " 98948: 6,\n",
       " 98949: 91,\n",
       " 646: 3,\n",
       " 98951: 1035,\n",
       " 98952: 6,\n",
       " 98412: 379,\n",
       " 98954: 8,\n",
       " 98956: 9,\n",
       " 98957: 3,\n",
       " 654: 54,\n",
       " 655: 3,\n",
       " 98961: 1,\n",
       " 98962: 406,\n",
       " 98963: 3,\n",
       " 33428: 341,\n",
       " 33429: 15,\n",
       " 33430: 0,\n",
       " 33431: 6,\n",
       " 66200: 73,\n",
       " 131737: 99,\n",
       " 98970: 177,\n",
       " 128975: 0,\n",
       " 131741: 4,\n",
       " 131742: 6,\n",
       " 76571: 17,\n",
       " 98980: 194,\n",
       " 98981: 66,\n",
       " 98983: 4,\n",
       " 680: 21,\n",
       " 66222: 180,\n",
       " 92957: 7,\n",
       " 66232: 326,\n",
       " 66233: 3,\n",
       " 66234: 105,\n",
       " 66241: 4,\n",
       " 5579: 10,\n",
       " 66245: 10,\n",
       " 63309: 5,\n",
       " 49271: 3,\n",
       " 99023: 1835,\n",
       " 66256: 138,\n",
       " 114808: 6,\n",
       " 722: 1238,\n",
       " 99028: 188,\n",
       " 725: 0,\n",
       " 99031: 10,\n",
       " 728: 3,\n",
       " 729: 6,\n",
       " 730: 10,\n",
       " 66267: 28,\n",
       " 33500: 2584,\n",
       " 33504: 5,\n",
       " 66274: 44,\n",
       " 33507: 3,\n",
       " 131813: 3795,\n",
       " 131814: 1,\n",
       " 121140: 45,\n",
       " 33513: 3,\n",
       " 746: 2,\n",
       " 747: 45,\n",
       " 748: 0,\n",
       " 749: 630,\n",
       " 751: 1,\n",
       " 754: 10,\n",
       " 33526: 533,\n",
       " 33528: 0,\n",
       " 762: 1,\n",
       " 131835: 113,\n",
       " 764: 1,\n",
       " 66301: 6,\n",
       " 766: 141,\n",
       " 131840: 54,\n",
       " 131843: 130,\n",
       " 772: 12,\n",
       " 66309: 47,\n",
       " 66310: 406,\n",
       " 66311: 465,\n",
       " 131849: 114,\n",
       " 131850: 0,\n",
       " 103895: 136,\n",
       " 127688: 4,\n",
       " 28156: 68,\n",
       " 99086: 1868,\n",
       " 131855: 3,\n",
       " 784: 1378,\n",
       " 131857: 406,\n",
       " 131860: 0,\n",
       " 789: 53,\n",
       " 790: 10,\n",
       " 791: 3,\n",
       " 131866: 2055,\n",
       " 64403: 97,\n",
       " 131869: 13,\n",
       " 99104: 3003,\n",
       " 99105: 15,\n",
       " 99107: 46,\n",
       " 62221: 91,\n",
       " 125745: 25,\n",
       " 811: 490,\n",
       " 812: 378,\n",
       " 813: 10,\n",
       " 66350: 33,\n",
       " 815: 122,\n",
       " 816: 45,\n",
       " 60211: 1684,\n",
       " 66356: 3,\n",
       " 87518: 1779,\n",
       " 822: 1403,\n",
       " 98441: 21,\n",
       " 824: 439,\n",
       " 33593: 343,\n",
       " 99131: 105,\n",
       " 63313: 6,\n",
       " 66367: 814,\n",
       " 66368: 528,\n",
       " 66369: 10,\n",
       " 33604: 59,\n",
       " 837: 2379,\n",
       " 839: 180,\n",
       " 99144: 104,\n",
       " 33609: 3,\n",
       " 131914: 94,\n",
       " 843: 15,\n",
       " 33615: 148,\n",
       " 87524: 0,\n",
       " 66396: 744,\n",
       " 99165: 203,\n",
       " 99166: 1,\n",
       " 66401: 1019,\n",
       " 99170: 9,\n",
       " 33635: 411,\n",
       " 131940: 130,\n",
       " 127691: 4,\n",
       " 871: 607,\n",
       " 872: 10,\n",
       " 33641: 444,\n",
       " 99178: 351,\n",
       " 33643: 6,\n",
       " 99180: 0,\n",
       " 66413: 109,\n",
       " 33650: 3,\n",
       " 884: 262,\n",
       " 885: 6,\n",
       " 887: 3,\n",
       " 99193: 297,\n",
       " 33658: 6,\n",
       " 33659: 36,\n",
       " 66428: 319,\n",
       " 66430: 381,\n",
       " 895: 34,\n",
       " 896: 6,\n",
       " 897: 0,\n",
       " 898: 15,\n",
       " 899: 1,\n",
       " 66438: 23,\n",
       " 66439: 3,\n",
       " 904: 11,\n",
       " 131978: 3,\n",
       " 99211: 323,\n",
       " 131980: 91,\n",
       " 131981: 10,\n",
       " 131982: 1,\n",
       " 66448: 11,\n",
       " 16536: 59,\n",
       " 131986: 162,\n",
       " 66451: 163,\n",
       " 916: 1493,\n",
       " 33686: 4,\n",
       " 33687: 0,\n",
       " 66456: 7,\n",
       " 131993: 484,\n",
       " 66459: 36,\n",
       " 33692: 25,\n",
       " 66461: 9,\n",
       " 99230: 8,\n",
       " 66464: 21,\n",
       " 66465: 3,\n",
       " 125766: 77,\n",
       " 99239: 2134,\n",
       " 99240: 28,\n",
       " 114844: 281,\n",
       " 99242: 2,\n",
       " 33709: 1613,\n",
       " 76616: 149,\n",
       " 99251: 75,\n",
       " 132020: 491,\n",
       " 132021: 3,\n",
       " 99254: 1251,\n",
       " 132023: 1,\n",
       " 132024: 0,\n",
       " 99258: 6,\n",
       " 99259: 1,\n",
       " 99260: 3,\n",
       " 109386: 1378,\n",
       " 99263: 124,\n",
       " 99266: 1,\n",
       " 66502: 1076,\n",
       " 132043: 32,\n",
       " 66511: 516,\n",
       " 66513: 3,\n",
       " 66514: 1035,\n",
       " 66515: 6,\n",
       " 125774: 312,\n",
       " 66518: 25,\n",
       " 33751: 23,\n",
       " 33752: 0,\n",
       " 33753: 10,\n",
       " 66522: 409,\n",
       " 27471: 378,\n",
       " 33756: 6,\n",
       " 66525: 712,\n",
       " 66526: 351,\n",
       " 66527: 630,\n",
       " 33760: 15,\n",
       " 43856: 97,\n",
       " 33763: 293,\n",
       " 66535: 352,\n",
       " 87548: 171,\n",
       " 66538: 12,\n",
       " 66539: 0,\n",
       " 132076: 1,\n",
       " 132077: 3,\n",
       " 66544: 34,\n",
       " 33777: 13,\n",
       " 33778: 231,\n",
       " 33779: 351,\n",
       " 33781: 60,\n",
       " 66553: 933,\n",
       " 66555: 1,\n",
       " 99324: 1525,\n",
       " 66557: 0,\n",
       " 99327: 56,\n",
       " 58955: 146,\n",
       " 99332: 28,\n",
       " 33797: 64,\n",
       " 33798: 120,\n",
       " 120321: 650,\n",
       " 132104: 57,\n",
       " 132105: 10,\n",
       " 132106: 0,\n",
       " 27479: 15,\n",
       " 33805: 935,\n",
       " 99347: 2106,\n",
       " 99348: 820,\n",
       " 99349: 28,\n",
       " 132121: 35,\n",
       " 99359: 16,\n",
       " 99361: 1485,\n",
       " 60251: 148,\n",
       " 5638: 1547,\n",
       " 33830: 370,\n",
       " 114865: 569,\n",
       " 33832: 1,\n",
       " 33833: 55,\n",
       " 66602: 13,\n",
       " 66605: 1,\n",
       " 99374: 2365,\n",
       " 66607: 23,\n",
       " 33840: 1371,\n",
       " 114867: 287,\n",
       " 121596: 54,\n",
       " 99386: 8,\n",
       " 33851: 8,\n",
       " 1086: 3006,\n",
       " 33855: 10,\n",
       " 11104: 171,\n",
       " 104880: 15,\n",
       " 87563: 854,\n",
       " 1095: 4,\n",
       " 66632: 62,\n",
       " 66633: 1,\n",
       " 66634: 105,\n",
       " 1099: 6,\n",
       " 66636: 121,\n",
       " 132173: 375,\n",
       " 1102: 15,\n",
       " 20768: 0,\n",
       " 12039: 228,\n",
       " 1105: 6,\n",
       " 43875: 179,\n",
       " 1112: 1,\n",
       " 132185: 115,\n",
       " 33883: 362,\n",
       " 1116: 12,\n",
       " 33885: 253,\n",
       " 33886: 10,\n",
       " 33887: 1,\n",
       " 1120: 0,\n",
       " 1121: 15,\n",
       " 1122: 6,\n",
       " 1123: 1,\n",
       " 25899: 253,\n",
       " 99431: 862,\n",
       " 1128: 3,\n",
       " 38227: 6,\n",
       " 132206: 646,\n",
       " 22035: 17,\n",
       " 33908: 876,\n",
       " 33909: 1,\n",
       " 130456: 6,\n",
       " 99449: 328,\n",
       " 66682: 368,\n",
       " 66683: 15,\n",
       " 99452: 1,\n",
       " 66685: 105,\n",
       " 99454: 146,\n",
       " 99455: 465,\n",
       " 99456: 351,\n",
       " 33921: 48,\n",
       " 66690: 7,\n",
       " 1155: 2522,\n",
       " 33925: 279,\n",
       " 1158: 190,\n",
       " 33927: 210,\n",
       " 99466: 25,\n",
       " 99467: 10,\n",
       " 99468: 0,\n",
       " 99469: 78,\n",
       " 99470: 28,\n",
       " 69871: 6,\n",
       " 99472: 27,\n",
       " 33937: 19,\n",
       " 99474: 18,\n",
       " 66707: 199,\n",
       " 132244: 158,\n",
       " 33941: 18,\n",
       " 132247: 3,\n",
       " 132248: 1,\n",
       " 99481: 30,\n",
       " 1178: 192,\n",
       " 11119: 823,\n",
       " 1181: 4,\n",
       " 1183: 3,\n",
       " 1186: 1043,\n",
       " 1187: 3,\n",
       " 66724: 457,\n",
       " 66725: 0,\n",
       " 66726: 6,\n",
       " 66727: 10,\n",
       " 66728: 630,\n",
       " 66730: 45,\n",
       " 99499: 6,\n",
       " 99500: 10,\n",
       " 66733: 480,\n",
       " 66734: 21,\n",
       " 99504: 15,\n",
       " 99505: 28,\n",
       " 66740: 1842,\n",
       " 33973: 3383,\n",
       " 132282: 122,\n",
       " 132284: 21,\n",
       " 132285: 1,\n",
       " 132286: 435,\n",
       " 33983: 1798,\n",
       " 1216: 17,\n",
       " 33985: 21,\n",
       " 1218: 3,\n",
       " 66756: 206,\n",
       " 66757: 1,\n",
       " 132295: 112,\n",
       " 66760: 2,\n",
       " 66761: 1,\n",
       " 125815: 90,\n",
       " 66766: 14,\n",
       " 1231: 559,\n",
       " 66768: 171,\n",
       " 66769: 136,\n",
       " 66770: 3,\n",
       " 99539: 1579,\n",
       " 1239: 3,\n",
       " 132312: 181,\n",
       " 34009: 677,\n",
       " 34011: 637,\n",
       " 99548: 238,\n",
       " 34013: 10,\n",
       " 34018: 5,\n",
       " 34021: 34,\n",
       " 66791: 208,\n",
       " 99561: 49,\n",
       " 99562: 15,\n",
       " 87591: 349,\n",
       " 99566: 4,\n",
       " 60285: 47,\n",
       " 34032: 12,\n",
       " 34033: 1,\n",
       " 99570: 0,\n",
       " 66803: 86,\n",
       " 99572: 0,\n",
       " 132342: 63,\n",
       " 99575: 10,\n",
       " 132347: 10,\n",
       " 30588: 376,\n",
       " 38232: 153,\n",
       " 132353: 3,\n",
       " 34051: 39,\n",
       " 66826: 1406,\n",
       " 132364: 15,\n",
       " 132368: 41,\n",
       " 99601: 226,\n",
       " 34066: 1822,\n",
       " 34067: 0,\n",
       " 132373: 4,\n",
       " 132374: 3,\n",
       " 120032: 6,\n",
       " 66840: 1660,\n",
       " 132380: 1,\n",
       " 99613: 32,\n",
       " 99614: 1,\n",
       " 99617: 6,\n",
       " 132387: 26,\n",
       " 99621: 1,\n",
       " 132390: 16,\n",
       " 99623: 6,\n",
       " 34090: 623,\n",
       " 99627: 0,\n",
       " 1324: 3217,\n",
       " 38450: 1,\n",
       " 29942: 139,\n",
       " 34097: 285,\n",
       " 99634: 91,\n",
       " 34101: 2,\n",
       " 1334: 484,\n",
       " 66875: 91,\n",
       " 1341: 31,\n",
       " 34110: 791,\n",
       " 34111: 3,\n",
       " 66880: 87,\n",
       " 34114: 1,\n",
       " 66883: 3,\n",
       " 1351: 124,\n",
       " 22071: 6,\n",
       " 1356: 580,\n",
       " 109095: 66,\n",
       " 34127: 49,\n",
       " 1366: 77,\n",
       " 1367: 10,\n",
       " 1368: 15,\n",
       " 1369: 0,\n",
       " 1370: 45,\n",
       " 1372: 7,\n",
       " 132445: 1246,\n",
       " 1374: 6,\n",
       " 132447: 1,\n",
       " 230: 1,\n",
       " 99690: 458,\n",
       " 131303: 10,\n",
       " 27751: 78,\n",
       " 63076: 24,\n",
       " 132469: 272,\n",
       " 1399: 648,\n",
       " 1400: 0,\n",
       " 43924: 196,\n",
       " 96326: 23,\n",
       " 69879: 338,\n",
       " 66946: 380,\n",
       " 1411: 20,\n",
       " 60059: 0,\n",
       " 99717: 1034,\n",
       " 99718: 990,\n",
       " 1418: 6,\n",
       " 11159: 18,\n",
       " 132492: 1480,\n",
       " 98541: 406,\n",
       " 43929: 6,\n",
       " 34200: 1028,\n",
       " 49391: 164,\n",
       " 1436: 119,\n",
       " 99741: 372,\n",
       " 34206: 3,\n",
       " 1439: 6,\n",
       " 1444: 35,\n",
       " 1445: 1,\n",
       " 1446: 1,\n",
       " 1447: 3,\n",
       " 34218: 23,\n",
       " 1451: 5,\n",
       " 132525: 389,\n",
       " 132527: 7,\n",
       " 132528: 3,\n",
       " 34226: 15,\n",
       " 66995: 1272,\n",
       " 66996: 0,\n",
       " 99765: 40,\n",
       " 132535: 20,\n",
       " 1466: 1,\n",
       " 48019: 6,\n",
       " 99774: 3,\n",
       " 26236: 28,\n",
       " 116800: 28,\n",
       " 1482: 265,\n",
       " 70278: 1,\n",
       " 87629: 1545,\n",
       " 99793: 54,\n",
       " 11171: 11,\n",
       " 71246: 15,\n",
       " 99798: 18,\n",
       " 67032: 458,\n",
       " 34265: 1056,\n",
       " 67034: 28,\n",
       " 34267: 3,\n",
       " 1500: 212,\n",
       " 1501: 6,\n",
       " 34270: 26,\n",
       " 132576: 53,\n",
       " 1507: 6,\n",
       " 1509: 0,\n",
       " 1510: 6,\n",
       " 1513: 28,\n",
       " 1516: 21,\n",
       " 132589: 119,\n",
       " 1518: 33,\n",
       " 1519: 136,\n",
       " 99825: 1804,\n",
       " 132594: 991,\n",
       " 67060: 327,\n",
       " 132599: 12,\n",
       " 67064: 6,\n",
       " 99833: 17,\n",
       " 67068: 0,\n",
       " 99841: 36,\n",
       " 93099: 0,\n",
       " 132614: 172,\n",
       " 132615: 1,\n",
       " 132617: 3,\n",
       " 132619: 11,\n",
       " 132620: 0,\n",
       " 132621: 10,\n",
       " 34319: 438,\n",
       " 67090: 1057,\n",
       " 1556: 191,\n",
       " 132629: 108,\n",
       " 132630: 231,\n",
       " 132631: 21,\n",
       " 132632: 0,\n",
       " 132633: 10,\n",
       " 34332: 51,\n",
       " 34333: 28,\n",
       " 99870: 1409,\n",
       " 99874: 7,\n",
       " 67108: 82,\n",
       " 67109: 1,\n",
       " 99878: 3,\n",
       " 1575: 155,\n",
       " 99882: 1,\n",
       " 99883: 15,\n",
       " 97163: 14,\n",
       " 1582: 95,\n",
       " 28633: 1421,\n",
       " 67122: 305,\n",
       " 67123: 6,\n",
       " 1589: 80,\n",
       " 67126: 11,\n",
       " 132663: 1207,\n",
       " 99898: 22,\n",
       " 132669: 14,\n",
       " 67134: 47,\n",
       " 67135: 6,\n",
       " 67137: 1,\n",
       " 1602: 75,\n",
       " 67139: 153,\n",
       " 99908: 114,\n",
       " 67141: 5,\n",
       " 132679: 1174,\n",
       " 132680: 1,\n",
       " 67147: 150,\n",
       " 99916: 9,\n",
       " 37152: 1,\n",
       " 44790: 222,\n",
       " 36061: 7,\n",
       " 34387: 1622,\n",
       " 99924: 0,\n",
       " 132693: 6,\n",
       " 67158: 6,\n",
       " 132695: 3,\n",
       " 132697: 6,\n",
       " 99930: 43,\n",
       " 67163: 42,\n",
       " 131344: 3,\n",
       " 132706: 467,\n",
       " 132712: 19,\n",
       " 27580: 78,\n",
       " 132715: 1,\n",
       " 132716: 0,\n",
       " 44791: 78,\n",
       " 34417: 153,\n",
       " 132723: 454,\n",
       " 67189: 121,\n",
       " 132726: 12,\n",
       " 99959: 43,\n",
       " 132728: 4,\n",
       " 132731: 36,\n",
       " 132733: 1,\n",
       " 1662: 218,\n",
       " 1663: 1540,\n",
       " 1664: 1128,\n",
       " 99969: 607,\n",
       " 99972: 993,\n",
       " ...}"
      ]
     },
     "execution_count": 17,
     "metadata": {},
     "output_type": "execute_result"
    }
   ],
   "source": [
    "nx.triangles(G)"
   ]
  },
  {
   "cell_type": "markdown",
   "metadata": {},
   "source": [
    "How many triangles there are in the whole network?"
   ]
  },
  {
   "cell_type": "code",
   "execution_count": 18,
   "metadata": {},
   "outputs": [
    {
     "name": "stdout",
     "output_type": "stream",
     "text": [
      "1351441.0\n"
     ]
    }
   ],
   "source": [
    "float(sum(nx.triangles(G).values()))/3"
   ]
  },
  {
   "cell_type": "markdown",
   "metadata": {},
   "source": [
    "The global clustering coefficient is \n",
    "<center>\n",
    "$C_\\Delta = \\frac{3 \\times \\text{triangles}}{\\text{triplets}}$\n",
    "</center>"
   ]
  },
  {
   "cell_type": "code",
   "execution_count": 19,
   "metadata": {},
   "outputs": [
    {
     "data": {
      "text/plain": [
       "0.3180015812533629"
      ]
     },
     "execution_count": 19,
     "metadata": {},
     "output_type": "execute_result"
    }
   ],
   "source": [
    "nx.transitivity(G)"
   ]
  },
  {
   "cell_type": "markdown",
   "metadata": {},
   "source": [
    "## Average clustering coefficient\n",
    "As an alternative to the global clustering coefficient, the overall level of clustering in a network is measured by Watts and Strogatz as the average of the local clustering coefficients of all the vertices $n$:\n",
    "\n",
    "<center>\n",
    "$\\bar{C} = \\frac{1}{n}\\sum_{i=1}^{n} C_i.$\n",
    "</center>\n",
    "\n",
    "It is worth noting that this metric places more weight on the low degree nodes, while the transitivity ratio places more weight on the high degree nodes. In fact, a weighted average where each local clustering score is weighted by $k_i(k_i-1)$ is identical to the global clustering coefficient."
   ]
  },
  {
   "cell_type": "code",
   "execution_count": 16,
   "metadata": {},
   "outputs": [
    {
     "name": "stdout",
     "output_type": "stream",
     "text": [
      "The average clustering coefficient of G is\n"
     ]
    },
    {
     "data": {
      "text/plain": [
       "0.6305932411707976"
      ]
     },
     "execution_count": 16,
     "metadata": {},
     "output_type": "execute_result"
    }
   ],
   "source": [
    "print \"The average clustering coefficient of G is\"\n",
    "nx.average_clustering(G)"
   ]
  },
  {
   "cell_type": "markdown",
   "metadata": {},
   "source": [
    "#### Warning! Calculating the shortest paths is intensive! "
   ]
  },
  {
   "cell_type": "code",
   "execution_count": 73,
   "metadata": {},
   "outputs": [
    {
     "data": {
      "text/plain": [
       "4.194011768617203"
      ]
     },
     "execution_count": 73,
     "metadata": {},
     "output_type": "execute_result"
    }
   ],
   "source": [
    "nx.average_shortest_path_length(H)"
   ]
  },
  {
   "cell_type": "markdown",
   "metadata": {},
   "source": [
    "### Compare the results with a random ER network"
   ]
  },
  {
   "cell_type": "markdown",
   "metadata": {},
   "source": [
    "We generate a random Erdos-Renyi graph with same average connectivity of H."
   ]
  },
  {
   "cell_type": "code",
   "execution_count": 20,
   "metadata": {
    "collapsed": true
   },
   "outputs": [],
   "source": [
    "nnodes=18000\n",
    "plink=0.00122\n",
    "\n",
    "ER=nx.fast_gnp_random_graph(nnodes, plink)"
   ]
  },
  {
   "cell_type": "code",
   "execution_count": 24,
   "metadata": {},
   "outputs": [
    {
     "data": {
      "text/plain": [
       "True"
      ]
     },
     "execution_count": 24,
     "metadata": {},
     "output_type": "execute_result"
    }
   ],
   "source": [
    "nx.is_connected(ER)"
   ]
  },
  {
   "cell_type": "code",
   "execution_count": 21,
   "metadata": {},
   "outputs": [
    {
     "name": "stdout",
     "output_type": "stream",
     "text": [
      "The ER graph has 18000 nodes\n",
      "and 197700 edges\n"
     ]
    }
   ],
   "source": [
    "print \"The ER graph has\", len(ER), \"nodes\"\n",
    "print \"and\",len(ER.edges()),\"edges\""
   ]
  },
  {
   "cell_type": "code",
   "execution_count": 22,
   "metadata": {},
   "outputs": [
    {
     "name": "stdout",
     "output_type": "stream",
     "text": [
      "The average clustering coefficient of ER is\n"
     ]
    },
    {
     "data": {
      "text/plain": [
       "0.00123132006214401"
      ]
     },
     "execution_count": 22,
     "metadata": {},
     "output_type": "execute_result"
    }
   ],
   "source": [
    "print \"The average clustering coefficient of ER is\"\n",
    "nx.average_clustering(ER)"
   ]
  },
  {
   "cell_type": "code",
   "execution_count": 23,
   "metadata": {},
   "outputs": [
    {
     "name": "stdout",
     "output_type": "stream",
     "text": [
      "1783.0\n"
     ]
    }
   ],
   "source": [
    "print float(sum(nx.triangles(ER).values()))/3"
   ]
  },
  {
   "cell_type": "markdown",
   "metadata": {},
   "source": [
    "### Compare the results with a random AB network"
   ]
  },
  {
   "cell_type": "code",
   "execution_count": 27,
   "metadata": {
    "collapsed": true
   },
   "outputs": [],
   "source": [
    "AB=nx.barabasi_albert_graph(18000,11)"
   ]
  },
  {
   "cell_type": "code",
   "execution_count": 28,
   "metadata": {},
   "outputs": [
    {
     "name": "stdout",
     "output_type": "stream",
     "text": [
      "The AB graph has 18000 nodes\n",
      "and 197879 edges\n"
     ]
    }
   ],
   "source": [
    "print \"The AB graph has\", len(AB), \"nodes\"\n",
    "print \"and\",len(AB.edges()),\"edges\""
   ]
  },
  {
   "cell_type": "code",
   "execution_count": 35,
   "metadata": {
    "collapsed": true
   },
   "outputs": [],
   "source": [
    "from collections import Counter \n",
    "degrees=AB.degree().values()\n",
    "c=Counter(degrees)"
   ]
  },
  {
   "cell_type": "code",
   "execution_count": 34,
   "metadata": {
    "collapsed": true
   },
   "outputs": [],
   "source": [
    "import powerlaw as pwl"
   ]
  },
  {
   "cell_type": "code",
   "execution_count": 38,
   "metadata": {},
   "outputs": [
    {
     "data": {
      "image/png": "[encoded data removed]",
      "text/plain": [
       "<matplotlib.figure.Figure at 0x12ec9ea10>"
      ]
     },
     "metadata": {},
     "output_type": "display_data"
    }
   ],
   "source": [
    "plt.figure(figsize=(10,7))\n",
    "x=[]\n",
    "y=[]\n",
    "for i in sorted(c):   \n",
    "    x.append(i)\n",
    "    y.append(float(c[i])/len(AB))\n",
    "\n",
    "    \n",
    "plt.plot(np.array(x),np.array(y))\n",
    "pwl.plot_pdf(degrees)\n",
    "\n",
    "plt.xlabel('$k$', fontsize=18)\n",
    "plt.ylabel('$P(k)$', fontsize=18)\n",
    "plt.xticks(fontsize=14)\n",
    "plt.yticks(fontsize=14)\n",
    "plt.yscale('log')\n",
    "plt.xscale('log')\n",
    "plt.axis([10,1000,0.0000001,1])\n",
    "plt.show()"
   ]
  },
  {
   "cell_type": "code",
   "execution_count": 42,
   "metadata": {},
   "outputs": [],
   "source": [
    "fit_function = pwl.Fit(degrees, xmin=11)"
   ]
  },
  {
   "cell_type": "code",
   "execution_count": 43,
   "metadata": {},
   "outputs": [
    {
     "data": {
      "text/plain": [
       "3.0537042981293578"
      ]
     },
     "execution_count": 43,
     "metadata": {},
     "output_type": "execute_result"
    }
   ],
   "source": [
    "fit_function.power_law.alpha"
   ]
  },
  {
   "cell_type": "code",
   "execution_count": 45,
   "metadata": {},
   "outputs": [
    {
     "data": {
      "text/plain": [
       "0.015307408054335796"
      ]
     },
     "execution_count": 45,
     "metadata": {},
     "output_type": "execute_result"
    }
   ],
   "source": [
    "fit_function.power_law.sigma"
   ]
  },
  {
   "cell_type": "code",
   "execution_count": 44,
   "metadata": {},
   "outputs": [
    {
     "data": {
      "text/plain": [
       "11.0"
      ]
     },
     "execution_count": 44,
     "metadata": {},
     "output_type": "execute_result"
    }
   ],
   "source": [
    "fit_function.power_law.xmin"
   ]
  },
  {
   "cell_type": "code",
   "execution_count": 32,
   "metadata": {},
   "outputs": [
    {
     "name": "stdout",
     "output_type": "stream",
     "text": [
      "The average clustering coefficient of AB is\n"
     ]
    },
    {
     "data": {
      "text/plain": [
       "0.007311913480187081"
      ]
     },
     "execution_count": 32,
     "metadata": {},
     "output_type": "execute_result"
    }
   ],
   "source": [
    "print \"The average clustering coefficient of AB is\"\n",
    "nx.average_clustering(AB)"
   ]
  },
  {
   "cell_type": "code",
   "execution_count": 33,
   "metadata": {},
   "outputs": [
    {
     "name": "stdout",
     "output_type": "stream",
     "text": [
      "The number of triangles is  22678.0\n"
     ]
    }
   ],
   "source": [
    "print \"The number of triangles is \", float(sum(nx.triangles(AB).values()))/3.0"
   ]
  },
  {
   "cell_type": "markdown",
   "metadata": {},
   "source": [
    "### Compare the results with a random WS network"
   ]
  },
  {
   "cell_type": "code",
   "execution_count": 65,
   "metadata": {
    "collapsed": true
   },
   "outputs": [],
   "source": [
    "WS=nx.connected_watts_strogatz_graph(18000,23,0.2,50)"
   ]
  },
  {
   "cell_type": "code",
   "execution_count": 66,
   "metadata": {},
   "outputs": [
    {
     "name": "stdout",
     "output_type": "stream",
     "text": [
      "The WS graph has 18000 nodes\n",
      "and 198000 edges\n"
     ]
    }
   ],
   "source": [
    "print \"The WS graph has\", len(WS), \"nodes\"\n",
    "print \"and\",len(WS.edges()),\"edges\""
   ]
  },
  {
   "cell_type": "code",
   "execution_count": 67,
   "metadata": {},
   "outputs": [
    {
     "data": {
      "text/plain": [
       "True"
      ]
     },
     "execution_count": 67,
     "metadata": {},
     "output_type": "execute_result"
    }
   ],
   "source": [
    "nx.is_connected(WS)"
   ]
  },
  {
   "cell_type": "code",
   "execution_count": 68,
   "metadata": {},
   "outputs": [],
   "source": [
    "ws_degrees=(WS.degree().values())"
   ]
  },
  {
   "cell_type": "code",
   "execution_count": 69,
   "metadata": {},
   "outputs": [
    {
     "data": {
      "text/plain": [
       "(array([    0.,  1000.,  2000.,  3000.,  4000.,  5000.,  6000.,  7000.,\n",
       "         8000.]), <a list of 9 Text yticklabel objects>)"
      ]
     },
     "execution_count": 69,
     "metadata": {},
     "output_type": "execute_result"
    },
    {
     "data": {
      "image/png": "[encoded data removed]",
      "text/plain": [
       "<matplotlib.figure.Figure at 0x12ea7be10>"
      ]
     },
     "metadata": {},
     "output_type": "display_data"
    }
   ],
   "source": [
    "plt.figure(figsize=(10,7))\n",
    "plt.hist(ws_degrees, bins=10)\n",
    "plt.xlabel('$k$', fontsize=18)\n",
    "plt.ylabel('$Freq.$', fontsize=18)\n",
    "plt.xticks(fontsize=14)\n",
    "plt.yticks(fontsize=14)"
   ]
  },
  {
   "cell_type": "code",
   "execution_count": 70,
   "metadata": {},
   "outputs": [
    {
     "name": "stdout",
     "output_type": "stream",
     "text": [
      "The average clustering coefficient of WS is\n"
     ]
    },
    {
     "data": {
      "text/plain": [
       "0.36686956440404495"
      ]
     },
     "execution_count": 70,
     "metadata": {},
     "output_type": "execute_result"
    }
   ],
   "source": [
    "print \"The average clustering coefficient of WS is\"\n",
    "nx.average_clustering(WS)"
   ]
  },
  {
   "cell_type": "markdown",
   "metadata": {},
   "source": [
    "## Closeness Centrality"
   ]
  },
  {
   "cell_type": "markdown",
   "metadata": {},
   "source": [
    "In connected graphs there is a natural distance metric between all pairs of nodes, defined by the length of their shortest paths. \n",
    "The '''farness''' of a node ''x'' is defined as the sum of its distances from all other nodes, and its closeness was defined by Bavelas as the reciprocal of the farness that is:\n",
    "\n",
    "\n",
    "<center>\n",
    "$C(x)= \\frac{1}{\\sum_y d(y,x)}.$\n",
    "</center>\n",
    "\n",
    "\n",
    "Thus, the more central a node is the lower its total distance from all other nodes. Note that taking distances ''from'' or ''to'' all other nodes is irrelevant in undirected graphs, whereas in directed graphs distances ''to'' a node are considered a more meaningful measure of centrality, as in general (e.g., in, the web) a node has little control over its incoming links.\n"
   ]
  },
  {
   "cell_type": "markdown",
   "metadata": {},
   "source": [
    "####Be careful! Computing all the distances between pair of nodes can be intensive."
   ]
  },
  {
   "cell_type": "code",
   "execution_count": null,
   "metadata": {
    "collapsed": true
   },
   "outputs": [],
   "source": [
    "close_centr=nx.closeness_centrality(G)"
   ]
  },
  {
   "cell_type": "code",
   "execution_count": null,
   "metadata": {
    "collapsed": true
   },
   "outputs": [],
   "source": [
    "print close_centr"
   ]
  },
  {
   "cell_type": "markdown",
   "metadata": {},
   "source": [
    "## Measure the assortativity of the network"
   ]
  },
  {
   "cell_type": "markdown",
   "metadata": {},
   "source": [
    "Assortativity can be measured in different ways. A simple approach is measuring the average nearest neighbor degree to assess the level of degree-assortativity."
   ]
  },
  {
   "cell_type": "code",
   "execution_count": null,
   "metadata": {
    "collapsed": true
   },
   "outputs": [],
   "source": [
    "from collections import defaultdict"
   ]
  },
  {
   "cell_type": "code",
   "execution_count": null,
   "metadata": {
    "collapsed": true
   },
   "outputs": [],
   "source": [
    "x=[]\n",
    "y=[]\n",
    "\n",
    "avg_knn=defaultdict(list)\n",
    "\n",
    "for n in G.nodes():\n",
    "    k=G.degree(n)\n",
    "    \n",
    "    nn=len(G.neighbors(n))\n",
    "    total=0\n",
    "    for j in G.neighbors(n):\n",
    "        total+=G.degree(j)\n",
    "    \n",
    "    avg_knn[k].append(float(total)/nn)\n",
    "    \n",
    "    x.append(k)\n",
    "    y.append(float(total)/nn)"
   ]
  },
  {
   "cell_type": "code",
   "execution_count": null,
   "metadata": {
    "collapsed": true
   },
   "outputs": [],
   "source": [
    "plt.figure(figsize=(10,7))\n",
    "plt.scatter(x,y)\n",
    "\n",
    "plt.xlabel('$k_i$', fontsize=18)\n",
    "plt.ylabel('$k_{nn}$', fontsize=18)\n",
    "plt.xticks(fontsize=14)\n",
    "plt.yticks(fontsize=14)\n",
    "plt.yscale('log')\n",
    "plt.xscale('log')\n",
    "plt.axis([0.1,1000,1,1000])\n",
    "plt.show()"
   ]
  },
  {
   "cell_type": "code",
   "execution_count": null,
   "metadata": {
    "collapsed": true
   },
   "outputs": [],
   "source": [
    "z=[]\n",
    "for k in avg_knn:\n",
    "    knn=np.array(avg_knn[k])\n",
    "    z.append(np.average(knn))\n",
    "    #print k, np.average(knn)"
   ]
  },
  {
   "cell_type": "code",
   "execution_count": null,
   "metadata": {
    "collapsed": true
   },
   "outputs": [],
   "source": [
    "plt.figure(figsize=(10,7))\n",
    "plt.scatter(x,y)\n",
    "plt.plot(avg_knn.keys(),z, color='r')\n",
    "\n",
    "plt.xlabel('$k_i$', fontsize=18)\n",
    "plt.ylabel('$k_{nn}$', fontsize=18)\n",
    "plt.xticks(fontsize=14)\n",
    "plt.yticks(fontsize=14)\n",
    "plt.yscale('log')\n",
    "plt.xscale('log')\n",
    "plt.axis([0.1,1000,1,1000])\n",
    "plt.show()"
   ]
  },
  {
   "cell_type": "code",
   "execution_count": null,
   "metadata": {
    "collapsed": true
   },
   "outputs": [],
   "source": [
    "r=nx.degree_assortativity_coefficient(G)"
   ]
  },
  {
   "cell_type": "code",
   "execution_count": null,
   "metadata": {
    "collapsed": true
   },
   "outputs": [],
   "source": [
    "print r"
   ]
  },
  {
   "cell_type": "markdown",
   "metadata": {},
   "source": [
    "The degree assortativity coefficient of a ER graph is much smaller."
   ]
  },
  {
   "cell_type": "code",
   "execution_count": null,
   "metadata": {
    "collapsed": true
   },
   "outputs": [],
   "source": [
    "ERr=nx.degree_assortativity_coefficient(ER)"
   ]
  },
  {
   "cell_type": "code",
   "execution_count": null,
   "metadata": {
    "collapsed": true
   },
   "outputs": [],
   "source": [
    "ERr"
   ]
  },
  {
   "cell_type": "markdown",
   "metadata": {},
   "source": [
    "NetworkX offers a number of functions to compute the same quantity."
   ]
  },
  {
   "cell_type": "code",
   "execution_count": null,
   "metadata": {
    "collapsed": true
   },
   "outputs": [],
   "source": [
    "knn_avg2=nx.average_degree_connectivity(G)"
   ]
  },
  {
   "cell_type": "code",
   "execution_count": null,
   "metadata": {
    "collapsed": true
   },
   "outputs": [],
   "source": [
    "print knn_avg2"
   ]
  },
  {
   "cell_type": "code",
   "execution_count": null,
   "metadata": {
    "collapsed": true
   },
   "outputs": [],
   "source": [
    "knn_avg3=nx.k_nearest_neighbors(G)"
   ]
  },
  {
   "cell_type": "code",
   "execution_count": null,
   "metadata": {
    "collapsed": true
   },
   "outputs": [],
   "source": [
    "print knn_avg3"
   ]
  },
  {
   "cell_type": "code",
   "execution_count": null,
   "metadata": {
    "collapsed": true
   },
   "outputs": [],
   "source": [
    "r2=nx.degree_pearson_correlation_coefficient(G)\n",
    "print r2 "
   ]
  },
  {
   "cell_type": "markdown",
   "metadata": {},
   "source": [
    "# Random and targeted attacks to a network"
   ]
  },
  {
   "cell_type": "markdown",
   "metadata": {},
   "source": [
    "Resilience is the ability to provide and maintain an acceptable level of service in the face of faults and challenges to normal operation. Threats and challenges for services can range from simple misconfiguration over large scale natural disasters to targeted attacks."
   ]
  },
  {
   "cell_type": "markdown",
   "metadata": {},
   "source": [
    "We define a function that performs a random or targeted attack to a network according to a given strategy (random, degree based, betweenness based, etc. )"
   ]
  },
  {
   "cell_type": "code",
   "execution_count": null,
   "metadata": {
    "collapsed": true
   },
   "outputs": [],
   "source": [
    "def net_attack(graph, ranked_nodes):\n",
    "    \n",
    "    fraction_removed=[]#here we store the tuples: (%removed nodes, size of gcc)\n",
    "    \n",
    "    graph1=graph.copy()\n",
    "    nnodes=len(ranked_nodes)\n",
    "    n=0    \n",
    "    \n",
    "    gcc=list(nx.connected_components(graph1))[0]\n",
    "    \n",
    "    gcc_size=float(len(gcc))/nnodes\n",
    "    \n",
    "    fraction_removed.append( (float(n)/nnodes, gcc_size) )\n",
    "    \n",
    "    while gcc_size>0.01:\n",
    "        \n",
    "        #we start from the end of the list!\n",
    "        graph1.remove_node(ranked_nodes.pop())\n",
    "\n",
    "        gcc=list(nx.connected_components(graph1))[0]\n",
    "        gcc_size=float(len(gcc))/nnodes\n",
    "        n+=1\n",
    "        fraction_removed.append( (float(n)/nnodes, gcc_size) )\n",
    "    \n",
    "    return fraction_removed"
   ]
  },
  {
   "cell_type": "markdown",
   "metadata": {},
   "source": [
    "## Random attack"
   ]
  },
  {
   "cell_type": "code",
   "execution_count": null,
   "metadata": {
    "collapsed": true
   },
   "outputs": [],
   "source": [
    "airport_nodes=G.nodes()\n",
    "resilience_random=net_attack(G, airport_nodes)"
   ]
  },
  {
   "cell_type": "markdown",
   "metadata": {},
   "source": [
    "## Betweenness based attack"
   ]
  },
  {
   "cell_type": "code",
   "execution_count": null,
   "metadata": {
    "collapsed": true
   },
   "outputs": [],
   "source": [
    "airport_nodes_betw=[]\n",
    "\n",
    "betw=nx.betweenness_centrality(G)\n",
    "for i in sorted(betw.iteritems(), key=itemgetter(1)):\n",
    "    airport_nodes_betw.append(i[0])\n",
    "\n",
    "\n",
    "resilience_betw=net_attack(G, airport_nodes_betw)"
   ]
  },
  {
   "cell_type": "markdown",
   "metadata": {},
   "source": [
    "Let's compare the results."
   ]
  },
  {
   "cell_type": "code",
   "execution_count": null,
   "metadata": {
    "collapsed": true
   },
   "outputs": [],
   "source": [
    "x=[k[0] for k in resilience_random]\n",
    "y=[k[1] for k in resilience_random]\n",
    "\n",
    "x1=[k[0] for k in resilience_deg]\n",
    "y1=[k[1] for k in resilience_deg]\n",
    "\n",
    "x2=[k[0] for k in resilience_betw]\n",
    "y2=[k[1] for k in resilience_betw]\n",
    "\n",
    "plt.plot(x,y, label='random attack')\n",
    "plt.plot(x1,y1, label='degree based')\n",
    "plt.plot(x2,y2, label='betw based')\n",
    "\n",
    "plt.xlabel('$f_{c}$', fontsize=18)\n",
    "plt.ylabel('$LCC$', fontsize=18)\n",
    "plt.xticks(fontsize=14)\n",
    "plt.yticks(fontsize=14)\n",
    "\n",
    "plt.legend(loc='upper right')"
   ]
  },
  {
   "cell_type": "markdown",
   "metadata": {},
   "source": [
    "## Resilience of the Erdos-Renyi random network\n"
   ]
  },
  {
   "cell_type": "code",
   "execution_count": null,
   "metadata": {
    "collapsed": true
   },
   "outputs": [],
   "source": [
    "ER=nx.fast_gnp_random_graph(2000,0.012)"
   ]
  },
  {
   "cell_type": "code",
   "execution_count": null,
   "metadata": {
    "collapsed": true
   },
   "outputs": [],
   "source": [
    "ER_nodes=ER.nodes()\n",
    "\n",
    "ER_nodes_deg=[]\n",
    "for i in sorted(ER.degree().iteritems(), key=itemgetter(1)):\n",
    "    ER_nodes_deg.append(i[0])\n",
    "\n",
    "ER_nodes_betw=[]\n",
    "ER_betw=nx.betweenness_centrality(ER)\n",
    "for i in sorted(ER_betw.iteritems(), key=itemgetter(1)):\n",
    "    ER_nodes_betw.append(i[0])\n"
   ]
  },
  {
   "cell_type": "code",
   "execution_count": null,
   "metadata": {
    "collapsed": true
   },
   "outputs": [],
   "source": [
    "resilience_random=net_attack(ER, ER_nodes)\n",
    "resilience_deg=net_attack(ER, ER_nodes_deg)\n",
    "resilience_betw=net_attack(ER, ER_nodes_betw)"
   ]
  },
  {
   "cell_type": "code",
   "execution_count": null,
   "metadata": {
    "collapsed": true
   },
   "outputs": [],
   "source": [
    "x=[k[0] for k in resilience_random]\n",
    "y=[k[1] for k in resilience_random]\n",
    "\n",
    "x1=[k[0] for k in resilience_deg]\n",
    "y1=[k[1] for k in resilience_deg]\n",
    "\n",
    "x2=[k[0] for k in resilience_betw]\n",
    "y2=[k[1] for k in resilience_betw]\n",
    "\n",
    "plt.plot(x,y, label='random attack')\n",
    "plt.plot(x1,y1, label='degree based')\n",
    "plt.plot(x2,y2, label='betw based')\n",
    "\n",
    "plt.xlabel('$f_{c}$', fontsize=18)\n",
    "plt.ylabel('$LCC$', fontsize=18)\n",
    "plt.xticks(fontsize=14)\n",
    "plt.yticks(fontsize=14)\n",
    "\n",
    "plt.legend(loc='upper right')"
   ]
  },
  {
   "cell_type": "markdown",
   "metadata": {},
   "source": [
    "## Resilience of a real network\n"
   ]
  },
  {
   "cell_type": "code",
   "execution_count": null,
   "metadata": {
    "collapsed": true
   },
   "outputs": [],
   "source": []
  }
 ],
 "metadata": {
  "kernelspec": {
   "display_name": "Python 2",
   "language": "python",
   "name": "python2"
  },
  "language_info": {
   "codemirror_mode": {
    "name": "ipython",
    "version": 2
   },
   "file_extension": ".py",
   "mimetype": "text/x-python",
   "name": "python",
   "nbconvert_exporter": "python",
   "pygments_lexer": "ipython2",
   "version": "2.7.12"
  }
 },
 "nbformat": 4,
 "nbformat_minor": 1
}
